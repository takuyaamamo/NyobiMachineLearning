{
 "cells": [
  {
   "cell_type": "markdown",
   "metadata": {},
   "source": [
    "## ランダムサーチ\n",
    "- パラメータをランダムに選択し、良さそうなパラメータを探す方法"
   ]
  },
  {
   "cell_type": "code",
   "execution_count": 3,
   "metadata": {},
   "outputs": [],
   "source": [
    "import numpy\n",
    "numpy.random.seed(0)"
   ]
  },
  {
   "cell_type": "code",
   "execution_count": 4,
   "metadata": {},
   "outputs": [
    {
     "name": "stdout",
     "output_type": "stream",
     "text": [
      "a = 0.5488135039273248, b = 630\n",
      "a = 0.8442657485810173, b = 764\n",
      "a = 0.5448831829968969, b = 10\n",
      "a = 0.6235636967859723, b = 755\n",
      "a = 0.4375872112626925, b = 71\n",
      "a = 0.05671297731744318, b = 397\n",
      "a = 0.3834415188257777, b = 487\n",
      "a = 0.8121687287754932, b = 175\n",
      "a = 0.5680445610939323, b = 678\n",
      "a = 0.8360787635373775, b = 73\n",
      "a = 0.08712929970154071, b = 116\n",
      "a = 0.36824153984054797, b = 710\n",
      "a = 0.7781567509498505, b = 432\n",
      "a = 0.8700872583584364, b = 100\n",
      "a = 0.7991585642167236, b = 756\n",
      "a = 0.5204774795512048, b = 148\n",
      "a = 0.11827442586893322, b = 289\n",
      "a = 0.5820197920751071, b = 698\n",
      "a = 0.9446689170495839, b = 544\n",
      "a = 0.10590760718779213, b = 152\n"
     ]
    }
   ],
   "source": [
    "for _ in range(20):# 20回繰り返す、\n",
    "    a = numpy.random.random()#  0.0 から 1.0 の範囲からランダムに選択\n",
    "    b = numpy.random.randint(1, 1001)#  0.0 から 1.0 の範囲からランダムに選択\n",
    "    print(f'a = {a}, b = {b}')"
   ]
  }
 ],
 "metadata": {
  "kernelspec": {
   "display_name": "Python 3",
   "language": "python",
   "name": "python3"
  },
  "language_info": {
   "codemirror_mode": {
    "name": "ipython",
    "version": 3
   },
   "file_extension": ".py",
   "mimetype": "text/x-python",
   "name": "python",
   "nbconvert_exporter": "python",
   "pygments_lexer": "ipython3",
   "version": "3.7.3"
  }
 },
 "nbformat": 4,
 "nbformat_minor": 2
}
