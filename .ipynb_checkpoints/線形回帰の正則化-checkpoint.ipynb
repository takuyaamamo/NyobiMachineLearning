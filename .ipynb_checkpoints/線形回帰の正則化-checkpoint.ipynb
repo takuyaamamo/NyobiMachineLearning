{
 "cells": [
  {
   "cell_type": "markdown",
   "metadata": {},
   "source": [
    "## データの準備"
   ]
  },
  {
   "cell_type": "code",
   "execution_count": 7,
   "metadata": {},
   "outputs": [],
   "source": [
    "import numpy\n",
    "from pandas import DataFrame\n",
    "from sklearn.datasets import load_boston\n",
    "from sklearn.model_selection import train_test_split\n",
    "\n",
    "boston = load_boston()\n",
    "X = boston.data\n",
    "y = boston.target\n",
    "feature_names = boston.feature_names\n",
    "\n",
    "df = DataFrame(data=X, columns=feature_names)\n",
    "df['MEDV'] = y\n",
    "\n",
    "X = df[['RM', 'LSTAT']].values\n",
    "y = df['MEDV'].values\n",
    "\n",
    "# 訓練データとテストデータに分割する\n",
    "X_train, X_test, y_train, y_test = train_test_split(X, y, test_size=0.30, random_state=42)\n",
    "\n",
    "# データを更に分割し、回帰で使用できるように.reshape\n",
    "X_train0 = X_train[:, 0].reshape(-1, 1)  # 訓練データのRM\n",
    "X_train1 = X_train[:, 1].reshape(-1, 1)  # 訓練データのLSTAT\n",
    "X_test0 = X_test[:, 0].reshape(-1, 1)  # テストデータのRM\n",
    "X_test1 = X_test[:, 1].reshape(-1, 1)  # テストデータのLSTAT"
   ]
  },
  {
   "cell_type": "markdown",
   "metadata": {},
   "source": [
    "## 前処理"
   ]
  },
  {
   "cell_type": "code",
   "execution_count": 23,
   "metadata": {},
   "outputs": [
    {
     "name": "stdout",
     "output_type": "stream",
     "text": [
      "X_train_scaled[:10]:\n",
      " [[ 0.14526384  0.09602649]\n",
      " [-0.20840082  0.28449227]\n",
      " [-0.89623682  0.23399558]\n",
      " [-0.54396454  0.13383002]\n",
      " [-0.55649596  0.45253863]\n",
      " [ 0.10070766  0.16721854]\n",
      " [ 0.936136    0.03338852]\n",
      " [-0.89484444  0.58636865]\n",
      " [-0.24042558  0.31512141]\n",
      " [-0.81408637  0.31512141]]\n",
      "X_test_scaled[:10]:\n",
      " [[ 0.12577051  0.20171082]\n",
      " [ 0.60196466  0.04966887]\n",
      " [-0.47713027  0.450883  ]\n",
      " [-0.36295507  0.10458057]\n",
      " [-0.03992278  0.42880795]\n",
      " [-0.06498563  0.28256071]\n",
      " [-0.57320453  0.4580574 ]\n",
      " [-0.21118559  0.61892936]\n",
      " [-0.13460465  0.30739514]\n",
      " [-0.41586553  0.34768212]]\n"
     ]
    }
   ],
   "source": [
    "from sklearn.preprocessing import MinMaxScaler, StandardScaler\n",
    "\n",
    "# RMは標準化\n",
    "standard_scaler = StandardScaler()\n",
    "X_train_scaled0 = standard_scaler.fit_transform(X_train0)\n",
    "X_test_scaled0 = standard_scaler.transform(X_test0)\n",
    "\n",
    "# LSTATは正則化\n",
    "min_max_scaler = MinMaxScaler()\n",
    "X_train_scaled1 = min_max_scaler.fit_transform(X_train1)\n",
    "X_test_scaled1 = min_max_scaler.transform(X_test1)\n",
    "\n",
    "# 元のshapeに結合する\n",
    "X_train_scaled = numpy.zeros(X_train.shape)\n",
    "X_train_scaled[:, 0] = X_train_scaled0.reshape(-1)\n",
    "X_train_scaled[:, 1] = X_train_scaled1.reshape(-1)\n",
    "print('X_train_scaled[:10]:\\n',X_train_scaled[:10])\n",
    "\n",
    "X_test_scaled = numpy.zeros(X_test.shape)\n",
    "X_test_scaled[:, 0] = X_test_scaled0.reshape(-1)\n",
    "X_test_scaled[:, 1] = X_test_scaled1.reshape(-1)\n",
    "print('X_test_scaled[:10]:\\n', X_test_scaled[:10])"
   ]
  },
  {
   "cell_type": "markdown",
   "metadata": {},
   "source": [
    "### K-fold cross validation\n",
    "- 正則化パラメータを求める際に使用する"
   ]
  },
  {
   "cell_type": "code",
   "execution_count": 25,
   "metadata": {},
   "outputs": [],
   "source": [
    "from sklearn.model_selection import KFold\n",
    "\n",
    "kf = KFold(n_splits=5, shuffle=True, random_state=42)"
   ]
  },
  {
   "cell_type": "markdown",
   "metadata": {},
   "source": [
    "## Lasso\n",
    "- 重回帰にLassoを組み合わせる"
   ]
  },
  {
   "cell_type": "code",
   "execution_count": 26,
   "metadata": {},
   "outputs": [
    {
     "data": {
      "text/plain": [
       "'\\nLassoCV のインスタンスを生成。\\nKFold のインスタンス kf を渡す。\\n'"
      ]
     },
     "execution_count": 26,
     "metadata": {},
     "output_type": "execute_result"
    }
   ],
   "source": [
    "# scikit-learn ライブラリから LassoCV を import\n",
    "from sklearn.linear_model import LassoCV\n",
    "\n",
    "lasso = LassoCV(cv=kf)\n",
    "'''\n",
    "LassoCV のインスタンスを生成。\n",
    "KFold のインスタンス kf を渡す。\n",
    "'''"
   ]
  },
  {
   "cell_type": "code",
   "execution_count": 30,
   "metadata": {},
   "outputs": [
    {
     "data": {
      "text/plain": [
       "LassoCV(alphas=None, copy_X=True,\n",
       "        cv=KFold(n_splits=5, random_state=42, shuffle=True), eps=0.001,\n",
       "        fit_intercept=True, max_iter=1000, n_alphas=100, n_jobs=None,\n",
       "        normalize=False, positive=False, precompute='auto', random_state=None,\n",
       "        selection='cyclic', tol=0.0001, verbose=False)"
      ]
     },
     "execution_count": 30,
     "metadata": {},
     "output_type": "execute_result"
    }
   ],
   "source": [
    "# fit() メソッドを利用して、モデルを学習\n",
    "lasso.fit(X_train_scaled, y_train)"
   ]
  },
  {
   "cell_type": "code",
   "execution_count": 31,
   "metadata": {},
   "outputs": [
    {
     "name": "stdout",
     "output_type": "stream",
     "text": [
      "0.6486214999775375\n",
      "0.6004647942968494\n",
      "0.006548570448456541\n"
     ]
    }
   ],
   "source": [
    "# score() メソッドを利用して、決定係数を計算\n",
    "print(lasso.score(X_train_scaled, y_train))\n",
    "print(lasso.score(X_test_scaled, y_test))\n",
    "# 学習された正則化パラメータを確認\n",
    "print(lasso.alpha_)"
   ]
  },
  {
   "cell_type": "markdown",
   "metadata": {},
   "source": [
    "## Ridge regression\n",
    "- 重回帰にRidgeを取り入れる"
   ]
  },
  {
   "cell_type": "code",
   "execution_count": 34,
   "metadata": {},
   "outputs": [],
   "source": [
    "import numpy\n",
    "# scikit-learn ライブラリから RidgeCV を import\n",
    "from sklearn.linear_model import RidgeCV\n",
    "\n",
    "# RidgeCV のインスタンスを生成\n",
    "ridge = RidgeCV(cv=kf)"
   ]
  },
  {
   "cell_type": "code",
   "execution_count": 35,
   "metadata": {},
   "outputs": [
    {
     "name": "stderr",
     "output_type": "stream",
     "text": [
      "/opt/conda/lib/python3.7/site-packages/sklearn/model_selection/_search.py:813: DeprecationWarning: The default of the `iid` parameter will change from True to False in version 0.22 and will be removed in 0.24. This will change numeric results when test-set sizes are unequal.\n",
      "  DeprecationWarning)\n"
     ]
    },
    {
     "data": {
      "text/plain": [
       "RidgeCV(alphas=array([ 0.1,  1. , 10. ]),\n",
       "        cv=KFold(n_splits=5, random_state=42, shuffle=True), fit_intercept=True,\n",
       "        gcv_mode=None, normalize=False, scoring=None, store_cv_values=False)"
      ]
     },
     "execution_count": 35,
     "metadata": {},
     "output_type": "execute_result"
    }
   ],
   "source": [
    "# fit() メソッドを利用して、モデルを学習\n",
    "ridge.fit(X_train_scaled, y_train)"
   ]
  },
  {
   "cell_type": "code",
   "execution_count": 37,
   "metadata": {},
   "outputs": [
    {
     "name": "stdout",
     "output_type": "stream",
     "text": [
      "0.6486164412432371\n",
      "0.6005255323711269\n",
      "0.1\n"
     ]
    }
   ],
   "source": [
    "# score() メソッドを利用して、決定係数を計算\n",
    "print(ridge.score(X_train_scaled, y_train))\n",
    "print(ridge.score(X_test_scaled, y_test))\n",
    "\n",
    "# 学習された正則化パラメータを確認\n",
    "print(ridge.alpha_)"
   ]
  },
  {
   "cell_type": "markdown",
   "metadata": {},
   "source": [
    "### Elastic Net\n",
    "- LassoとRidgeを重回帰に取り入れる"
   ]
  },
  {
   "cell_type": "code",
   "execution_count": 38,
   "metadata": {},
   "outputs": [
    {
     "data": {
      "text/plain": [
       "'\\nscikit-learn の実装では、 L1  正則化の正則化パラメータは、 L2  正則化パラメータとの比率で与える\\nこのパラメータが l1_ratio で、l1_ratio=0 のとき、Elastic Net は実質的にRidge回帰となり、l1_ratio=1 のとき、Lasso と同等のものになる。\\n今回は、デフォルト値の l1_ratio=0.5 を採用\\n'"
      ]
     },
     "execution_count": 38,
     "metadata": {},
     "output_type": "execute_result"
    }
   ],
   "source": [
    "# scikit-learn ライブラリから ElasticNetCV を import\n",
    "from sklearn.linear_model import ElasticNetCV\n",
    "\n",
    "# ElasticNetCV のインスタンスを生成\n",
    "elasticnet = ElasticNetCV(cv=kf, l1_ratio=0.5)\n",
    "'''\n",
    "scikit-learn の実装では、 L1  正則化の正則化パラメータは、 L2  正則化パラメータとの比率で与える\n",
    "このパラメータが l1_ratio で、l1_ratio=0 のとき、Elastic Net は実質的にRidge回帰となり、l1_ratio=1 のとき、Lasso と同等のものになる。\n",
    "今回は、デフォルト値の l1_ratio=0.5 を採用\n",
    "'''"
   ]
  },
  {
   "cell_type": "code",
   "execution_count": 39,
   "metadata": {},
   "outputs": [
    {
     "data": {
      "text/plain": [
       "ElasticNetCV(alphas=None, copy_X=True,\n",
       "             cv=KFold(n_splits=5, random_state=42, shuffle=True), eps=0.001,\n",
       "             fit_intercept=True, l1_ratio=0.5, max_iter=1000, n_alphas=100,\n",
       "             n_jobs=None, normalize=False, positive=False, precompute='auto',\n",
       "             random_state=None, selection='cyclic', tol=0.0001, verbose=0)"
      ]
     },
     "execution_count": 39,
     "metadata": {},
     "output_type": "execute_result"
    }
   ],
   "source": [
    "# fit() メソッドを利用して、モデルを学習\n",
    "elasticnet.fit(X_train_scaled, y_train)"
   ]
  },
  {
   "cell_type": "code",
   "execution_count": 41,
   "metadata": {},
   "outputs": [
    {
     "name": "stdout",
     "output_type": "stream",
     "text": [
      "0.6408644755644152\n",
      "0.6034664891361317\n"
     ]
    },
    {
     "data": {
      "text/plain": [
       "0.013097140896913077"
      ]
     },
     "execution_count": 41,
     "metadata": {},
     "output_type": "execute_result"
    }
   ],
   "source": [
    "# score() メソッドを利用して、決定係数を計算\n",
    "print(elasticnet.score(X_train_scaled, y_train))\n",
    "print(elasticnet.score(X_test_scaled, y_test))\n",
    "\n",
    "# 学習された正則化パラメータを確認\n",
    "elasticnet.alpha_"
   ]
  },
  {
   "cell_type": "code",
   "execution_count": 43,
   "metadata": {},
   "outputs": [
    {
     "ename": "ModuleNotFoundError",
     "evalue": "No module named '前処理自動化'",
     "output_type": "error",
     "traceback": [
      "\u001b[0;31m---------------------------------------------------------------------------\u001b[0m",
      "\u001b[0;31mModuleNotFoundError\u001b[0m                       Traceback (most recent call last)",
      "\u001b[0;32m<ipython-input-43-dc2a67156b8d>\u001b[0m in \u001b[0;36m<module>\u001b[0;34m\u001b[0m\n\u001b[0;32m----> 1\u001b[0;31m \u001b[0;32mimport\u001b[0m \u001b[0m前処理自動化\u001b[0m\u001b[0;34m.\u001b[0m\u001b[0mipynb\u001b[0m\u001b[0;34m\u001b[0m\u001b[0;34m\u001b[0m\u001b[0m\n\u001b[0m",
      "\u001b[0;31mModuleNotFoundError\u001b[0m: No module named '前処理自動化'"
     ]
    }
   ],
   "source": [
    "import 前処理自動化.ipynb"
   ]
  }
 ],
 "metadata": {
  "kernelspec": {
   "display_name": "Python 3",
   "language": "python",
   "name": "python3"
  },
  "language_info": {
   "codemirror_mode": {
    "name": "ipython",
    "version": 3
   },
   "file_extension": ".py",
   "mimetype": "text/x-python",
   "name": "python",
   "nbconvert_exporter": "python",
   "pygments_lexer": "ipython3",
   "version": "3.7.3"
  }
 },
 "nbformat": 4,
 "nbformat_minor": 2
}
