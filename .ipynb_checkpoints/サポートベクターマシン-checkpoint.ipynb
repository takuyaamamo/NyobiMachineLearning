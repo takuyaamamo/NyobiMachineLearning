{
 "cells": [
  {
   "cell_type": "markdown",
   "metadata": {},
   "source": [
    "## サポートベクターマシンの実装"
   ]
  },
  {
   "cell_type": "markdown",
   "metadata": {},
   "source": [
    "### データの読み込み"
   ]
  },
  {
   "cell_type": "code",
   "execution_count": 24,
   "metadata": {},
   "outputs": [
    {
     "data": {
      "text/plain": [
       "dict_keys(['data', 'target', 'target_names', 'DESCR', 'feature_names', 'filename'])"
      ]
     },
     "metadata": {},
     "output_type": "display_data"
    },
    {
     "data": {
      "text/plain": [
       "(569, 30)"
      ]
     },
     "metadata": {},
     "output_type": "display_data"
    },
    {
     "data": {
      "text/plain": [
       "array(['mean radius', 'mean texture', 'mean perimeter', 'mean area',\n",
       "       'mean smoothness', 'mean compactness', 'mean concavity',\n",
       "       'mean concave points', 'mean symmetry', 'mean fractal dimension',\n",
       "       'radius error', 'texture error', 'perimeter error', 'area error',\n",
       "       'smoothness error', 'compactness error', 'concavity error',\n",
       "       'concave points error', 'symmetry error',\n",
       "       'fractal dimension error', 'worst radius', 'worst texture',\n",
       "       'worst perimeter', 'worst area', 'worst smoothness',\n",
       "       'worst compactness', 'worst concavity', 'worst concave points',\n",
       "       'worst symmetry', 'worst fractal dimension'], dtype='<U23')"
      ]
     },
     "metadata": {},
     "output_type": "display_data"
    },
    {
     "data": {
      "text/plain": [
       "(569,)"
      ]
     },
     "metadata": {},
     "output_type": "display_data"
    },
    {
     "data": {
      "text/plain": [
       "(569, 10)"
      ]
     },
     "metadata": {},
     "output_type": "display_data"
    }
   ],
   "source": [
    "from pandas import DataFrame\n",
    "from sklearn.datasets import load_breast_cancer\n",
    "from IPython.core.display import display\n",
    "\n",
    "breast_cancer = load_breast_cancer()\n",
    "# 配列のkeyの確認\n",
    "display(breast_cancer.keys())\n",
    "# 配列の中身の確認\n",
    "display(breast_cancer['data'].shape)\n",
    "display(breast_cancer['feature_names'])\n",
    "display(breast_cancer['target'].shape)\n",
    "# 必要な10件の取り出し\n",
    "X = breast_cancer.data[:,:10]\n",
    "display(X.shape)\n",
    "y = breast_cancer.target\n",
    "\n",
    "columns = ['半径', 'テクスチャ', '周囲の長さ', '面積', 'なめらかさ', 'コンパクト性', 'へこみ', 'へこみの数', '対称性', 'フラクタル次元']\n",
    "\n",
    "df = DataFrame(data=X[:,:10], columns=columns)\n",
    "df['目的変数'] = y\n",
    "\n",
    "X = df[['面積', 'へこみ']].values\n",
    "y = df['目的変数'].values"
   ]
  },
  {
   "cell_type": "code",
   "execution_count": 25,
   "metadata": {},
   "outputs": [],
   "source": [
    "from sklearn.model_selection import train_test_split\n",
    "\n",
    "X_train, X_test, y_train, y_test = train_test_split(X, y, test_size=0.30, random_state=42)"
   ]
  },
  {
   "cell_type": "code",
   "execution_count": 27,
   "metadata": {},
   "outputs": [
    {
     "data": {
      "text/plain": [
       "StandardScaler(copy=True, with_mean=True, with_std=True)"
      ]
     },
     "execution_count": 27,
     "metadata": {},
     "output_type": "execute_result"
    }
   ],
   "source": [
    "from sklearn.preprocessing import StandardScaler\n",
    "\n",
    "sc = StandardScaler()\n",
    "sc.fit(X_train)"
   ]
  },
  {
   "cell_type": "code",
   "execution_count": 36,
   "metadata": {},
   "outputs": [],
   "source": [
    "# 訓練データの標準化\n",
    "X_train_std = sc.transform(X_train)\n",
    "X_test_std = sc.transform(X_test)"
   ]
  },
  {
   "cell_type": "code",
   "execution_count": 37,
   "metadata": {},
   "outputs": [
    {
     "name": "stdout",
     "output_type": "stream",
     "text": [
      "平均値: [2.23160407e-16 5.20521649e-16]\n",
      "標準偏差: [1. 1.]\n"
     ]
    }
   ],
   "source": [
    "# 標準化の確認\n",
    "# 標準化後の訓練データの平均値（ほぼ0）\n",
    "train_mean = X_train_std.mean(axis=0)\n",
    "print('平均値:', train_mean)\n",
    "# 標準化後の訓練データの標準偏差\n",
    "train_std = X_train_std.std(axis=0)\n",
    "print('標準偏差:', train_std)"
   ]
  },
  {
   "cell_type": "markdown",
   "metadata": {},
   "source": [
    "### 学習"
   ]
  },
  {
   "cell_type": "code",
   "execution_count": 39,
   "metadata": {},
   "outputs": [
    {
     "data": {
      "text/plain": [
       "'\\nSVC のインスタンスを作成します。\\nカーネルトリックに必要なカーネル関数は多項式カーネル (polynomial kernel) や、\\n動径基底関数カーネル (radial basis function kernel, RBFカーネル)がある。\\n今回は、カーネル関数としてRBFカーネルを採用しました（デフォルト値）。\\nソフトマージン分類では、サンプルが境界をはみ出ることを許容する代わりに、ペナルティCを課す。よってどれだけ境界をはみ出ていいかの数値になる。\\n今回は、Cの値は適当に選択しました。\\nprobability=True確率を推定するために必要となります。\\nRBFカーネルのパラメータである gamma はデフォルト値 (\"auto\") です。\\n'"
      ]
     },
     "execution_count": 39,
     "metadata": {},
     "output_type": "execute_result"
    }
   ],
   "source": [
    "# scikit-learn からサポートベクターマシンの実装である SVC を import\n",
    "from sklearn.svm import SVC\n",
    "\n",
    "svc = SVC(kernel='rbf', C=25, probability=True, random_state=42)\n",
    "'''\n",
    "SVC のインスタンスを作成します。\n",
    "カーネルトリックに必要なカーネル関数は多項式カーネル (polynomial kernel) や、\n",
    "動径基底関数カーネル (radial basis function kernel, RBFカーネル)がある。\n",
    "今回は、カーネル関数としてRBFカーネルを採用しました（デフォルト値）。\n",
    "ソフトマージン分類では、サンプルが境界をはみ出ることを許容する代わりに、ペナルティCを課す。よってどれだけ境界をはみ出ていいかの数値になる。\n",
    "今回は、Cの値は適当に選択しました。\n",
    "probability=True確率を推定するために必要となります。\n",
    "RBFカーネルのパラメータである gamma はデフォルト値 (\"auto\") です。\n",
    "'''"
   ]
  },
  {
   "cell_type": "code",
   "execution_count": 40,
   "metadata": {},
   "outputs": [
    {
     "data": {
      "text/plain": [
       "SVC(C=25, cache_size=200, class_weight=None, coef0=0.0,\n",
       "  decision_function_shape='ovr', degree=3, gamma='auto_deprecated',\n",
       "  kernel='rbf', max_iter=-1, probability=True, random_state=42,\n",
       "  shrinking=True, tol=0.001, verbose=False)"
      ]
     },
     "execution_count": 40,
     "metadata": {},
     "output_type": "execute_result"
    }
   ],
   "source": [
    "svc.fit(X_train_std, y_train)"
   ]
  },
  {
   "cell_type": "markdown",
   "metadata": {},
   "source": [
    "### 予測"
   ]
  },
  {
   "cell_type": "code",
   "execution_count": 41,
   "metadata": {},
   "outputs": [
    {
     "name": "stdout",
     "output_type": "stream",
     "text": [
      "[1 0 0 1 1 0 0 0 1 1 1 0 1 0 1 0 1 1 1 0 1 1 0 1 1 1 1 1 1 0 1 1 1 1 1 1 1\n",
      " 1 0 1 1 0 1 1 1 1 1 1 1 1 0 0 1 1 1 1 1 0 1 1 1 0 0 1 1 1 0 0 1 1 0 0 1 0\n",
      " 1 1 1 1 1 1 0 1 0 0 0 0 0 0 1 1 1 1 1 1 1 1 0 0 1 0 1 1 0 0 1 1 1 0 1 1 0\n",
      " 1 1 0 1 0 1 1 1 0 0 1 1 0 1 0 0 1 1 0 0 0 1 1 1 0 1 1 1 0 1 0 1 1 0 1 0 0\n",
      " 1 1 1 1 1 1 1 0 0 1 1 1 1 1 1 1 1 1 1 1 1 0 0]\n"
     ]
    }
   ],
   "source": [
    "# テストデータの予測\n",
    "pred = svc.predict(X_test_std)\n",
    "# 予測の確認\n",
    "print(pred)"
   ]
  },
  {
   "cell_type": "code",
   "execution_count": 48,
   "metadata": {},
   "outputs": [
    {
     "name": "stdout",
     "output_type": "stream",
     "text": [
      "[[0.09670775 0.90329225]\n",
      " [0.9988103  0.0011897 ]\n",
      " [0.98606794 0.01393206]\n",
      " [0.09310733 0.90689267]\n",
      " [0.0863005  0.9136995 ]]\n"
     ]
    }
   ],
   "source": [
    "# 確率\n",
    "proba = svc.predict_proba(X_test_std)\n",
    "print(proba[:5,:])"
   ]
  },
  {
   "cell_type": "markdown",
   "metadata": {},
   "source": [
    "### 評価"
   ]
  },
  {
   "cell_type": "code",
   "execution_count": 50,
   "metadata": {},
   "outputs": [
    {
     "data": {
      "text/plain": [
       "0.9415204678362573"
      ]
     },
     "execution_count": 50,
     "metadata": {},
     "output_type": "execute_result"
    }
   ],
   "source": [
    "# 正解率の計算\n",
    "from sklearn.metrics import accuracy_score\n",
    "\n",
    "accuracy_score(y_test, pred)"
   ]
  },
  {
   "cell_type": "markdown",
   "metadata": {},
   "source": [
    "### 決定領域"
   ]
  },
  {
   "cell_type": "code",
   "execution_count": 66,
   "metadata": {},
   "outputs": [],
   "source": [
    "import numpy\n",
    "from matplotlib import pyplot\n",
    "# !pip install japanize_matplotlib\n",
    "import japanize_matplotlib\n",
    "# !pip install mlxtend\n",
    "from mlxtend.plotting import plot_decision_regions\n",
    "\n",
    "# データの制限\n",
    "N = 100\n",
    "\n",
    "# 訓練データとテストデータのデータを先頭から取ってくる\n",
    "# vstack、hstack は、配列を縦（vstack）、または横（hstack）に連結\n",
    "sampled_X = numpy.vstack((X_train_std[:N], X_test_std[:N]))\n",
    "sampled_y = numpy.hstack((y_train[:N], y_test[:N]))"
   ]
  },
  {
   "cell_type": "code",
   "execution_count": 67,
   "metadata": {},
   "outputs": [
    {
     "data": {
      "text/plain": [
       "<matplotlib.axes._subplots.AxesSubplot at 0x7f336f7247f0>"
      ]
     },
     "execution_count": 67,
     "metadata": {},
     "output_type": "execute_result"
    },
    {
     "data": {
      "image/png": "[encoded data removed]",
      "text/plain": [
       "<Figure size 864x864 with 1 Axes>"
      ]
     },
     "metadata": {
      "needs_background": "light"
     },
     "output_type": "display_data"
    }
   ],
   "source": [
    "pyplot.figure(figsize=(12, 12))\n",
    "pyplot.xlabel('面積')\n",
    "pyplot.ylabel('へこみ')\n",
    "pyplot.title('サポートベクターマシンの決定領域')\n",
    "\n",
    "# 決定領域のプロット\n",
    "plot_decision_regions(sampled_X, sampled_y, clf=svc, legend=2, X_highlight=X_test_std[:N])"
   ]
  },
  {
   "cell_type": "code",
   "execution_count": null,
   "metadata": {},
   "outputs": [],
   "source": []
  }
 ],
 "metadata": {
  "kernelspec": {
   "display_name": "Python 3",
   "language": "python",
   "name": "python3"
  },
  "language_info": {
   "codemirror_mode": {
    "name": "ipython",
    "version": 3
   },
   "file_extension": ".py",
   "mimetype": "text/x-python",
   "name": "python",
   "nbconvert_exporter": "python",
   "pygments_lexer": "ipython3",
   "version": "3.7.3"
  }
 },
 "nbformat": 4,
 "nbformat_minor": 2
}
