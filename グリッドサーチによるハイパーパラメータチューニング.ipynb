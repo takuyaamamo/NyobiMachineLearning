{
 "cells": [
  {
   "cell_type": "markdown",
   "metadata": {},
   "source": [
    "## グリッドサーチ\n",
    "- 探索するパラメータのリストを総当たりに調べる手法"
   ]
  },
  {
   "cell_type": "code",
   "execution_count": 36,
   "metadata": {},
   "outputs": [],
   "source": [
    "param_a = [0.0, 0.2, 0.4, 0.6, 0.8, 1.0]\n",
    "param_b = [1, 10, 100, 1000]"
   ]
  },
  {
   "cell_type": "code",
   "execution_count": 37,
   "metadata": {},
   "outputs": [
    {
     "name": "stdout",
     "output_type": "stream",
     "text": [
      "a = 0.0, b = 1\n",
      "a = 0.0, b = 10\n",
      "a = 0.0, b = 100\n",
      "a = 0.0, b = 1000\n",
      "a = 0.2, b = 1\n",
      "a = 0.2, b = 10\n",
      "a = 0.2, b = 100\n",
      "a = 0.2, b = 1000\n",
      "a = 0.4, b = 1\n",
      "a = 0.4, b = 10\n",
      "a = 0.4, b = 100\n",
      "a = 0.4, b = 1000\n",
      "a = 0.6, b = 1\n",
      "a = 0.6, b = 10\n",
      "a = 0.6, b = 100\n",
      "a = 0.6, b = 1000\n",
      "a = 0.8, b = 1\n",
      "a = 0.8, b = 10\n",
      "a = 0.8, b = 100\n",
      "a = 0.8, b = 1000\n",
      "a = 1.0, b = 1\n",
      "a = 1.0, b = 10\n",
      "a = 1.0, b = 100\n",
      "a = 1.0, b = 1000\n"
     ]
    }
   ],
   "source": [
    "# 全てを組み合わせる\n",
    "for a in param_a:\n",
    "    for b in param_b:\n",
    "        print(f'a = {a}, b = {b}')"
   ]
  },
  {
   "cell_type": "markdown",
   "metadata": {},
   "source": [
    "### データの準備"
   ]
  },
  {
   "cell_type": "code",
   "execution_count": 38,
   "metadata": {},
   "outputs": [],
   "source": [
    "from pandas import DataFrame\n",
    "from sklearn.datasets import load_breast_cancer\n",
    "\n",
    "breast_cancer = load_breast_cancer()\n",
    "\n",
    "X = breast_cancer.data[:,:10]\n",
    "y = breast_cancer.target\n",
    "\n",
    "columns = ['半径', 'テクスチャ', '周囲の長さ', '面積', 'なめらかさ', 'コンパクト性', 'へこみ', 'へこみの数', '対称性', 'フラクタル次元']\n",
    "\n",
    "df = DataFrame(data=X[:,:10], columns=columns)\n",
    "df['目的変数'] = y"
   ]
  },
  {
   "cell_type": "code",
   "execution_count": 48,
   "metadata": {},
   "outputs": [],
   "source": [
    "X = df[['面積', 'へこみ']].values\n",
    "y = df['目的変数'].values"
   ]
  },
  {
   "cell_type": "code",
   "execution_count": 40,
   "metadata": {},
   "outputs": [],
   "source": [
    "from sklearn.model_selection import train_test_split\n",
    "\n",
    "X_train, X_test, y_train, y_test = train_test_split(X, y, test_size=0.30, random_state=42)"
   ]
  },
  {
   "cell_type": "markdown",
   "metadata": {},
   "source": [
    "### グリッドサーチで学習"
   ]
  },
  {
   "cell_type": "code",
   "execution_count": 41,
   "metadata": {},
   "outputs": [],
   "source": [
    "import numpy\n",
    "from sklearn.ensemble import RandomForestClassifier\n",
    "from sklearn.metrics import accuracy_score\n",
    "from sklearn.model_selection import StratifiedKFold"
   ]
  },
  {
   "cell_type": "code",
   "execution_count": 42,
   "metadata": {},
   "outputs": [],
   "source": [
    "# scikit-learn のグリッドサーチを利用するために、GridSearchCV を import\n",
    "# \"CV\" はクロスバリデーション (cross validation) のことで、パラメータの探索の際に交差検証にて評価を行う\n",
    "from sklearn.model_selection import GridSearchCV\n",
    "\n",
    "param_grid = {'max_depth': [1,2], 'n_estimators': [10,15,20,25,30]}\n",
    "'''\n",
    "パラメータの範囲を定義\n",
    "max_depth は 1 または 2\n",
    "n_estimators は 10 から 30 までの整数を 5 間隔で与える\n",
    "'''\n",
    "gs = GridSearchCV(\n",
    "    estimator=RandomForestClassifier(criterion='gini', random_state=42),# ランダムフォレスト\n",
    "    param_grid=param_grid,\n",
    "    scoring='accuracy',\n",
    "    cv=StratifiedKFold(n_splits=10, shuffle=True, random_state=42),# 交差検証にStratifiedKFoldを利用\n",
    "    return_train_score=True)"
   ]
  },
  {
   "cell_type": "code",
   "execution_count": 43,
   "metadata": {},
   "outputs": [
    {
     "data": {
      "text/plain": [
       "GridSearchCV(cv=StratifiedKFold(n_splits=10, random_state=42, shuffle=True),\n",
       "             error_score='raise-deprecating',\n",
       "             estimator=RandomForestClassifier(bootstrap=True, class_weight=None,\n",
       "                                              criterion='gini', max_depth=None,\n",
       "                                              max_features='auto',\n",
       "                                              max_leaf_nodes=None,\n",
       "                                              min_impurity_decrease=0.0,\n",
       "                                              min_impurity_split=None,\n",
       "                                              min_samples_leaf=1,\n",
       "                                              min_samples_split=2,\n",
       "                                              min_weight_fraction_leaf=0.0,\n",
       "                                              n_estimators='warn', n_jobs=None,\n",
       "                                              oob_score=False, random_state=42,\n",
       "                                              verbose=0, warm_start=False),\n",
       "             iid='warn', n_jobs=None,\n",
       "             param_grid={'max_depth': [1, 2],\n",
       "                         'n_estimators': [10, 15, 20, 25, 30]},\n",
       "             pre_dispatch='2*n_jobs', refit=True, return_train_score=True,\n",
       "             scoring='accuracy', verbose=0)"
      ]
     },
     "execution_count": 43,
     "metadata": {},
     "output_type": "execute_result"
    }
   ],
   "source": [
    "gs.fit(X_train, y_train)"
   ]
  },
  {
   "cell_type": "markdown",
   "metadata": {},
   "source": [
    "### 探索結果の確認"
   ]
  },
  {
   "cell_type": "code",
   "execution_count": 44,
   "metadata": {},
   "outputs": [
    {
     "data": {
      "text/plain": [
       "{'max_depth': 2, 'n_estimators': 20}"
      ]
     },
     "execution_count": 44,
     "metadata": {},
     "output_type": "execute_result"
    }
   ],
   "source": [
    "# もっとも性能の良かったパラメータは best_params_ 属性に格納されている\n",
    "gs.best_params_"
   ]
  },
  {
   "cell_type": "code",
   "execution_count": 45,
   "metadata": {},
   "outputs": [
    {
     "data": {
      "text/plain": [
       "0.9095477386934674"
      ]
     },
     "execution_count": 45,
     "metadata": {},
     "output_type": "execute_result"
    }
   ],
   "source": [
    "# この時のスコア（今回は層化10分割交差検証による正解率の平均）を確認\n",
    "gs.best_score_"
   ]
  },
  {
   "cell_type": "code",
   "execution_count": 46,
   "metadata": {},
   "outputs": [
    {
     "data": {
      "text/html": [
       "<div>\n",
       "<style scoped>\n",
       "    .dataframe tbody tr th:only-of-type {\n",
       "        vertical-align: middle;\n",
       "    }\n",
       "\n",
       "    .dataframe tbody tr th {\n",
       "        vertical-align: top;\n",
       "    }\n",
       "\n",
       "    .dataframe thead th {\n",
       "        text-align: right;\n",
       "    }\n",
       "</style>\n",
       "<table border=\"1\" class=\"dataframe\">\n",
       "  <thead>\n",
       "    <tr style=\"text-align: right;\">\n",
       "      <th></th>\n",
       "      <th>mean_fit_time</th>\n",
       "      <th>std_fit_time</th>\n",
       "      <th>mean_score_time</th>\n",
       "      <th>std_score_time</th>\n",
       "      <th>param_max_depth</th>\n",
       "      <th>param_n_estimators</th>\n",
       "      <th>params</th>\n",
       "      <th>split0_test_score</th>\n",
       "      <th>split1_test_score</th>\n",
       "      <th>split2_test_score</th>\n",
       "      <th>...</th>\n",
       "      <th>split2_train_score</th>\n",
       "      <th>split3_train_score</th>\n",
       "      <th>split4_train_score</th>\n",
       "      <th>split5_train_score</th>\n",
       "      <th>split6_train_score</th>\n",
       "      <th>split7_train_score</th>\n",
       "      <th>split8_train_score</th>\n",
       "      <th>split9_train_score</th>\n",
       "      <th>mean_train_score</th>\n",
       "      <th>std_train_score</th>\n",
       "    </tr>\n",
       "  </thead>\n",
       "  <tbody>\n",
       "    <tr>\n",
       "      <th>0</th>\n",
       "      <td>0.009473</td>\n",
       "      <td>0.003762</td>\n",
       "      <td>0.001552</td>\n",
       "      <td>0.000226</td>\n",
       "      <td>1</td>\n",
       "      <td>10</td>\n",
       "      <td>{'max_depth': 1, 'n_estimators': 10}</td>\n",
       "      <td>0.775</td>\n",
       "      <td>0.85</td>\n",
       "      <td>0.875</td>\n",
       "      <td>...</td>\n",
       "      <td>0.891061</td>\n",
       "      <td>0.879888</td>\n",
       "      <td>0.891061</td>\n",
       "      <td>0.874302</td>\n",
       "      <td>0.902235</td>\n",
       "      <td>0.882682</td>\n",
       "      <td>0.874302</td>\n",
       "      <td>0.902778</td>\n",
       "      <td>0.886926</td>\n",
       "      <td>0.009623</td>\n",
       "    </tr>\n",
       "    <tr>\n",
       "      <th>1</th>\n",
       "      <td>0.011095</td>\n",
       "      <td>0.000756</td>\n",
       "      <td>0.001964</td>\n",
       "      <td>0.000392</td>\n",
       "      <td>1</td>\n",
       "      <td>15</td>\n",
       "      <td>{'max_depth': 1, 'n_estimators': 15}</td>\n",
       "      <td>0.775</td>\n",
       "      <td>0.85</td>\n",
       "      <td>0.900</td>\n",
       "      <td>...</td>\n",
       "      <td>0.893855</td>\n",
       "      <td>0.879888</td>\n",
       "      <td>0.891061</td>\n",
       "      <td>0.879888</td>\n",
       "      <td>0.893855</td>\n",
       "      <td>0.885475</td>\n",
       "      <td>0.899441</td>\n",
       "      <td>0.897222</td>\n",
       "      <td>0.890560</td>\n",
       "      <td>0.006642</td>\n",
       "    </tr>\n",
       "    <tr>\n",
       "      <th>2</th>\n",
       "      <td>0.013010</td>\n",
       "      <td>0.000908</td>\n",
       "      <td>0.002038</td>\n",
       "      <td>0.000112</td>\n",
       "      <td>1</td>\n",
       "      <td>20</td>\n",
       "      <td>{'max_depth': 1, 'n_estimators': 20}</td>\n",
       "      <td>0.775</td>\n",
       "      <td>0.85</td>\n",
       "      <td>0.900</td>\n",
       "      <td>...</td>\n",
       "      <td>0.893855</td>\n",
       "      <td>0.882682</td>\n",
       "      <td>0.888268</td>\n",
       "      <td>0.879888</td>\n",
       "      <td>0.891061</td>\n",
       "      <td>0.882682</td>\n",
       "      <td>0.891061</td>\n",
       "      <td>0.897222</td>\n",
       "      <td>0.887767</td>\n",
       "      <td>0.005370</td>\n",
       "    </tr>\n",
       "    <tr>\n",
       "      <th>3</th>\n",
       "      <td>0.016676</td>\n",
       "      <td>0.000543</td>\n",
       "      <td>0.002641</td>\n",
       "      <td>0.000336</td>\n",
       "      <td>1</td>\n",
       "      <td>25</td>\n",
       "      <td>{'max_depth': 1, 'n_estimators': 25}</td>\n",
       "      <td>0.775</td>\n",
       "      <td>0.85</td>\n",
       "      <td>0.900</td>\n",
       "      <td>...</td>\n",
       "      <td>0.899441</td>\n",
       "      <td>0.879888</td>\n",
       "      <td>0.891061</td>\n",
       "      <td>0.879888</td>\n",
       "      <td>0.893855</td>\n",
       "      <td>0.882682</td>\n",
       "      <td>0.896648</td>\n",
       "      <td>0.897222</td>\n",
       "      <td>0.890840</td>\n",
       "      <td>0.007380</td>\n",
       "    </tr>\n",
       "    <tr>\n",
       "      <th>4</th>\n",
       "      <td>0.018541</td>\n",
       "      <td>0.000735</td>\n",
       "      <td>0.002851</td>\n",
       "      <td>0.000308</td>\n",
       "      <td>1</td>\n",
       "      <td>30</td>\n",
       "      <td>{'max_depth': 1, 'n_estimators': 30}</td>\n",
       "      <td>0.775</td>\n",
       "      <td>0.85</td>\n",
       "      <td>0.900</td>\n",
       "      <td>...</td>\n",
       "      <td>0.893855</td>\n",
       "      <td>0.888268</td>\n",
       "      <td>0.891061</td>\n",
       "      <td>0.879888</td>\n",
       "      <td>0.893855</td>\n",
       "      <td>0.885475</td>\n",
       "      <td>0.899441</td>\n",
       "      <td>0.894444</td>\n",
       "      <td>0.890282</td>\n",
       "      <td>0.005203</td>\n",
       "    </tr>\n",
       "  </tbody>\n",
       "</table>\n",
       "<p>5 rows × 32 columns</p>\n",
       "</div>"
      ],
      "text/plain": [
       "   mean_fit_time  std_fit_time  mean_score_time  std_score_time  \\\n",
       "0       0.009473      0.003762         0.001552        0.000226   \n",
       "1       0.011095      0.000756         0.001964        0.000392   \n",
       "2       0.013010      0.000908         0.002038        0.000112   \n",
       "3       0.016676      0.000543         0.002641        0.000336   \n",
       "4       0.018541      0.000735         0.002851        0.000308   \n",
       "\n",
       "  param_max_depth param_n_estimators                                params  \\\n",
       "0               1                 10  {'max_depth': 1, 'n_estimators': 10}   \n",
       "1               1                 15  {'max_depth': 1, 'n_estimators': 15}   \n",
       "2               1                 20  {'max_depth': 1, 'n_estimators': 20}   \n",
       "3               1                 25  {'max_depth': 1, 'n_estimators': 25}   \n",
       "4               1                 30  {'max_depth': 1, 'n_estimators': 30}   \n",
       "\n",
       "   split0_test_score  split1_test_score  split2_test_score  ...  \\\n",
       "0              0.775               0.85              0.875  ...   \n",
       "1              0.775               0.85              0.900  ...   \n",
       "2              0.775               0.85              0.900  ...   \n",
       "3              0.775               0.85              0.900  ...   \n",
       "4              0.775               0.85              0.900  ...   \n",
       "\n",
       "   split2_train_score  split3_train_score  split4_train_score  \\\n",
       "0            0.891061            0.879888            0.891061   \n",
       "1            0.893855            0.879888            0.891061   \n",
       "2            0.893855            0.882682            0.888268   \n",
       "3            0.899441            0.879888            0.891061   \n",
       "4            0.893855            0.888268            0.891061   \n",
       "\n",
       "   split5_train_score  split6_train_score  split7_train_score  \\\n",
       "0            0.874302            0.902235            0.882682   \n",
       "1            0.879888            0.893855            0.885475   \n",
       "2            0.879888            0.891061            0.882682   \n",
       "3            0.879888            0.893855            0.882682   \n",
       "4            0.879888            0.893855            0.885475   \n",
       "\n",
       "   split8_train_score  split9_train_score  mean_train_score  std_train_score  \n",
       "0            0.874302            0.902778          0.886926         0.009623  \n",
       "1            0.899441            0.897222          0.890560         0.006642  \n",
       "2            0.891061            0.897222          0.887767         0.005370  \n",
       "3            0.896648            0.897222          0.890840         0.007380  \n",
       "4            0.899441            0.894444          0.890282         0.005203  \n",
       "\n",
       "[5 rows x 32 columns]"
      ]
     },
     "metadata": {},
     "output_type": "display_data"
    },
    {
     "data": {
      "text/html": [
       "<div>\n",
       "<style scoped>\n",
       "    .dataframe tbody tr th:only-of-type {\n",
       "        vertical-align: middle;\n",
       "    }\n",
       "\n",
       "    .dataframe tbody tr th {\n",
       "        vertical-align: top;\n",
       "    }\n",
       "\n",
       "    .dataframe thead th {\n",
       "        text-align: right;\n",
       "    }\n",
       "</style>\n",
       "<table border=\"1\" class=\"dataframe\">\n",
       "  <thead>\n",
       "    <tr style=\"text-align: right;\">\n",
       "      <th></th>\n",
       "      <th>param_max_depth</th>\n",
       "      <th>param_n_estimators</th>\n",
       "      <th>mean_train_score</th>\n",
       "      <th>mean_test_score</th>\n",
       "    </tr>\n",
       "  </thead>\n",
       "  <tbody>\n",
       "    <tr>\n",
       "      <th>0</th>\n",
       "      <td>1</td>\n",
       "      <td>10</td>\n",
       "      <td>0.886926</td>\n",
       "      <td>0.871859</td>\n",
       "    </tr>\n",
       "    <tr>\n",
       "      <th>1</th>\n",
       "      <td>1</td>\n",
       "      <td>15</td>\n",
       "      <td>0.890560</td>\n",
       "      <td>0.869347</td>\n",
       "    </tr>\n",
       "    <tr>\n",
       "      <th>2</th>\n",
       "      <td>1</td>\n",
       "      <td>20</td>\n",
       "      <td>0.887767</td>\n",
       "      <td>0.871859</td>\n",
       "    </tr>\n",
       "    <tr>\n",
       "      <th>3</th>\n",
       "      <td>1</td>\n",
       "      <td>25</td>\n",
       "      <td>0.890840</td>\n",
       "      <td>0.876884</td>\n",
       "    </tr>\n",
       "    <tr>\n",
       "      <th>4</th>\n",
       "      <td>1</td>\n",
       "      <td>30</td>\n",
       "      <td>0.890282</td>\n",
       "      <td>0.881910</td>\n",
       "    </tr>\n",
       "    <tr>\n",
       "      <th>5</th>\n",
       "      <td>2</td>\n",
       "      <td>10</td>\n",
       "      <td>0.918484</td>\n",
       "      <td>0.894472</td>\n",
       "    </tr>\n",
       "    <tr>\n",
       "      <th>6</th>\n",
       "      <td>2</td>\n",
       "      <td>15</td>\n",
       "      <td>0.919603</td>\n",
       "      <td>0.907035</td>\n",
       "    </tr>\n",
       "    <tr>\n",
       "      <th>7</th>\n",
       "      <td>2</td>\n",
       "      <td>20</td>\n",
       "      <td>0.923785</td>\n",
       "      <td>0.909548</td>\n",
       "    </tr>\n",
       "    <tr>\n",
       "      <th>8</th>\n",
       "      <td>2</td>\n",
       "      <td>25</td>\n",
       "      <td>0.923509</td>\n",
       "      <td>0.904523</td>\n",
       "    </tr>\n",
       "    <tr>\n",
       "      <th>9</th>\n",
       "      <td>2</td>\n",
       "      <td>30</td>\n",
       "      <td>0.924350</td>\n",
       "      <td>0.904523</td>\n",
       "    </tr>\n",
       "  </tbody>\n",
       "</table>\n",
       "</div>"
      ],
      "text/plain": [
       "  param_max_depth param_n_estimators  mean_train_score  mean_test_score\n",
       "0               1                 10          0.886926         0.871859\n",
       "1               1                 15          0.890560         0.869347\n",
       "2               1                 20          0.887767         0.871859\n",
       "3               1                 25          0.890840         0.876884\n",
       "4               1                 30          0.890282         0.881910\n",
       "5               2                 10          0.918484         0.894472\n",
       "6               2                 15          0.919603         0.907035\n",
       "7               2                 20          0.923785         0.909548\n",
       "8               2                 25          0.923509         0.904523\n",
       "9               2                 30          0.924350         0.904523"
      ]
     },
     "metadata": {},
     "output_type": "display_data"
    }
   ],
   "source": [
    "# cv_results_ 属性には、探索結果の詳細が含まれている。 DataFrame に変換して表示してみる。\n",
    "df_grid_result = DataFrame(gs.cv_results_)\n",
    "display(df_grid_result.head())\n",
    "display(df_grid_result[['param_max_depth', 'param_n_estimators', 'mean_train_score', 'mean_test_score']])"
   ]
  },
  {
   "cell_type": "markdown",
   "metadata": {},
   "source": [
    "### 最も良かった学習モデルを取り出す"
   ]
  },
  {
   "cell_type": "code",
   "execution_count": 47,
   "metadata": {},
   "outputs": [
    {
     "name": "stdout",
     "output_type": "stream",
     "text": [
      "RandomForestClassifier(bootstrap=True, class_weight=None, criterion='gini',\n",
      "                       max_depth=2, max_features='auto', max_leaf_nodes=None,\n",
      "                       min_impurity_decrease=0.0, min_impurity_split=None,\n",
      "                       min_samples_leaf=1, min_samples_split=2,\n",
      "                       min_weight_fraction_leaf=0.0, n_estimators=20,\n",
      "                       n_jobs=None, oob_score=False, random_state=42, verbose=0,\n",
      "                       warm_start=False)\n"
     ]
    },
    {
     "data": {
      "text/plain": [
       "0.9298245614035088"
      ]
     },
     "execution_count": 47,
     "metadata": {},
     "output_type": "execute_result"
    }
   ],
   "source": [
    "# もっとも良かった機械学習モデルが best_estimator_ 属性に格納されている\n",
    "clf = gs.best_estimator_\n",
    "print(clf)\n",
    "# scoreメソッドを利用して、正解率の計算する\n",
    "clf.score(X_test, y_test)\n"
   ]
  }
 ],
 "metadata": {
  "kernelspec": {
   "display_name": "Python 3",
   "language": "python",
   "name": "python3"
  },
  "language_info": {
   "codemirror_mode": {
    "name": "ipython",
    "version": 3
   },
   "file_extension": ".py",
   "mimetype": "text/x-python",
   "name": "python",
   "nbconvert_exporter": "python",
   "pygments_lexer": "ipython3",
   "version": "3.7.3"
  }
 },
 "nbformat": 4,
 "nbformat_minor": 2
}
