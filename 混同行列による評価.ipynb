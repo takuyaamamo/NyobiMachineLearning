{
 "cells": [
  {
   "cell_type": "markdown",
   "metadata": {},
   "source": [
    "## データの準備"
   ]
  },
  {
   "cell_type": "code",
   "execution_count": 27,
   "metadata": {},
   "outputs": [
    {
     "data": {
      "text/html": [
       "<div>\n",
       "<style scoped>\n",
       "    .dataframe tbody tr th:only-of-type {\n",
       "        vertical-align: middle;\n",
       "    }\n",
       "\n",
       "    .dataframe tbody tr th {\n",
       "        vertical-align: top;\n",
       "    }\n",
       "\n",
       "    .dataframe thead th {\n",
       "        text-align: right;\n",
       "    }\n",
       "</style>\n",
       "<table border=\"1\" class=\"dataframe\">\n",
       "  <thead>\n",
       "    <tr style=\"text-align: right;\">\n",
       "      <th></th>\n",
       "      <th>半径</th>\n",
       "      <th>テクスチャ</th>\n",
       "      <th>周囲の長さ</th>\n",
       "      <th>面積</th>\n",
       "      <th>なめらかさ</th>\n",
       "      <th>コンパクト性</th>\n",
       "      <th>へこみ</th>\n",
       "      <th>へこみの数</th>\n",
       "      <th>対称性</th>\n",
       "      <th>フラクタル次元</th>\n",
       "      <th>目的変数</th>\n",
       "    </tr>\n",
       "  </thead>\n",
       "  <tbody>\n",
       "    <tr>\n",
       "      <th>0</th>\n",
       "      <td>17.99</td>\n",
       "      <td>10.38</td>\n",
       "      <td>122.80</td>\n",
       "      <td>1001.0</td>\n",
       "      <td>0.11840</td>\n",
       "      <td>0.27760</td>\n",
       "      <td>0.3001</td>\n",
       "      <td>0.14710</td>\n",
       "      <td>0.2419</td>\n",
       "      <td>0.07871</td>\n",
       "      <td>0</td>\n",
       "    </tr>\n",
       "    <tr>\n",
       "      <th>1</th>\n",
       "      <td>20.57</td>\n",
       "      <td>17.77</td>\n",
       "      <td>132.90</td>\n",
       "      <td>1326.0</td>\n",
       "      <td>0.08474</td>\n",
       "      <td>0.07864</td>\n",
       "      <td>0.0869</td>\n",
       "      <td>0.07017</td>\n",
       "      <td>0.1812</td>\n",
       "      <td>0.05667</td>\n",
       "      <td>0</td>\n",
       "    </tr>\n",
       "    <tr>\n",
       "      <th>2</th>\n",
       "      <td>19.69</td>\n",
       "      <td>21.25</td>\n",
       "      <td>130.00</td>\n",
       "      <td>1203.0</td>\n",
       "      <td>0.10960</td>\n",
       "      <td>0.15990</td>\n",
       "      <td>0.1974</td>\n",
       "      <td>0.12790</td>\n",
       "      <td>0.2069</td>\n",
       "      <td>0.05999</td>\n",
       "      <td>0</td>\n",
       "    </tr>\n",
       "    <tr>\n",
       "      <th>3</th>\n",
       "      <td>11.42</td>\n",
       "      <td>20.38</td>\n",
       "      <td>77.58</td>\n",
       "      <td>386.1</td>\n",
       "      <td>0.14250</td>\n",
       "      <td>0.28390</td>\n",
       "      <td>0.2414</td>\n",
       "      <td>0.10520</td>\n",
       "      <td>0.2597</td>\n",
       "      <td>0.09744</td>\n",
       "      <td>0</td>\n",
       "    </tr>\n",
       "    <tr>\n",
       "      <th>4</th>\n",
       "      <td>20.29</td>\n",
       "      <td>14.34</td>\n",
       "      <td>135.10</td>\n",
       "      <td>1297.0</td>\n",
       "      <td>0.10030</td>\n",
       "      <td>0.13280</td>\n",
       "      <td>0.1980</td>\n",
       "      <td>0.10430</td>\n",
       "      <td>0.1809</td>\n",
       "      <td>0.05883</td>\n",
       "      <td>0</td>\n",
       "    </tr>\n",
       "  </tbody>\n",
       "</table>\n",
       "</div>"
      ],
      "text/plain": [
       "      半径  テクスチャ   周囲の長さ      面積    なめらかさ   コンパクト性     へこみ    へこみの数     対称性  \\\n",
       "0  17.99  10.38  122.80  1001.0  0.11840  0.27760  0.3001  0.14710  0.2419   \n",
       "1  20.57  17.77  132.90  1326.0  0.08474  0.07864  0.0869  0.07017  0.1812   \n",
       "2  19.69  21.25  130.00  1203.0  0.10960  0.15990  0.1974  0.12790  0.2069   \n",
       "3  11.42  20.38   77.58   386.1  0.14250  0.28390  0.2414  0.10520  0.2597   \n",
       "4  20.29  14.34  135.10  1297.0  0.10030  0.13280  0.1980  0.10430  0.1809   \n",
       "\n",
       "   フラクタル次元  目的変数  \n",
       "0  0.07871     0  \n",
       "1  0.05667     0  \n",
       "2  0.05999     0  \n",
       "3  0.09744     0  \n",
       "4  0.05883     0  "
      ]
     },
     "metadata": {},
     "output_type": "display_data"
    }
   ],
   "source": [
    "from pandas import DataFrame\n",
    "from sklearn.datasets import load_breast_cancer\n",
    "from IPython.core.display import display\n",
    "\n",
    "breast_cancer = load_breast_cancer()\n",
    "\n",
    "X = breast_cancer.data[:,:10]\n",
    "y = breast_cancer.target\n",
    "\n",
    "columns =  ['半径', 'テクスチャ', '周囲の長さ', '面積', 'なめらかさ', 'コンパクト性', 'へこみ', 'へこみの数', '対称性', 'フラクタル次元']\n",
    "df = DataFrame(data =X[:,:10], columns=columns)\n",
    "df['目的変数'] = y\n",
    "\n",
    "display(df.head())"
   ]
  },
  {
   "cell_type": "markdown",
   "metadata": {},
   "source": [
    "### 特徴量の選択"
   ]
  },
  {
   "cell_type": "code",
   "execution_count": 28,
   "metadata": {},
   "outputs": [],
   "source": [
    "def importance(fit_data, columns, count):\n",
    "    '''\n",
    "    fit_dataはランダムフォレストか決定木のfit\n",
    "    columnsは特徴量のラベールネーム\n",
    "    countは抽出する特徴量の数かmean（平均以上）\n",
    "    '''\n",
    "    import numpy\n",
    "    from matplotlib import pyplot\n",
    "    import japanize_matplotlib\n",
    "\n",
    "    feature_names = numpy.array(columns)\n",
    "    # 特徴重要度はfeature_importance_に格納されている\n",
    "    feature_importances = fit_data.feature_importances_\n",
    "    # ソートするが、返す値はソート前のindex、これの通りに後から並び替えたりできる\n",
    "    indices = numpy.argsort(feature_importances)\n",
    "\n",
    "    pyplot.figure(figsize=(11, 7))\n",
    "    pyplot.title('Feature Imoportances')\n",
    "\n",
    "    # barhで横向きの棒グラフの描写設定（縦はbar）,range(len(indices)):横軸9個, feature_importances[indices]:indecesの順番でプロット\n",
    "    print(range(len(indices)))\n",
    "    print(feature_importances[indices])\n",
    "    pyplot.barh(range(len(indices)), feature_importances[indices], color='b', align='center')\n",
    "    pyplot.yticks(range(len(indices)), feature_names[indices])\n",
    "    pyplot.show()\n",
    "\n",
    "    # 特徴量の重要度から決定領域をプロットするためのデータを決める\n",
    "    print(feature_names[indices])\n",
    "    if count == 'mean':\n",
    "        mu = feature_importances.mean()\n",
    "        top_culumns_name = feature_names[indices][::-1][feature_importances[indices][::-1] > mu]\n",
    "        print(top_culumns_name)\n",
    "    elif isinstance(count, int):\n",
    "        # [::-1]で逆順に、[:2]で最初から二番目まで取り出し\n",
    "        top_columns_name = feature_names[indices][::-1][:count]\n",
    "        print(top_columns_name)\n",
    "        return top_columns_name"
   ]
  },
  {
   "cell_type": "code",
   "execution_count": 30,
   "metadata": {},
   "outputs": [
    {
     "name": "stdout",
     "output_type": "stream",
     "text": [
      "range(0, 10)\n",
      "[0.01720982 0.01891216 0.02652962 0.04372952 0.05700712 0.12412332\n",
      " 0.12765945 0.1300834  0.16039278 0.29435283]\n"
     ]
    },
    {
     "data": {
      "image/png": "[encoded data removed]",
      "text/plain": [
       "<Figure size 792x504 with 1 Axes>"
      ]
     },
     "metadata": {
      "needs_background": "light"
     },
     "output_type": "display_data"
    },
    {
     "name": "stdout",
     "output_type": "stream",
     "text": [
      "['対称性' 'フラクタル次元' 'なめらかさ' 'コンパクト性' 'テクスチャ' '半径' 'へこみ' '面積' '周囲の長さ' 'へこみの数']\n",
      "['へこみの数' '周囲の長さ']\n"
     ]
    }
   ],
   "source": [
    "# ランダムフォレストにより特徴量を選択する\n",
    "from sklearn.ensemble import RandomForestClassifier\n",
    "\n",
    "rf = RandomForestClassifier(max_depth=None, n_estimators=100, random_state=42)\n",
    "'''\n",
    "情報利得の計算にはデフォルトのジニ指数を (criterion='gini')\n",
    "決定木の深さは2を (max_depth=None)、ランダムフォレストの場合弱い木を多くすることが大事\n",
    "決定木の数は (n_estimators=100) を指定\n",
    "'''\n",
    "\n",
    "rf.fit(X, y)\n",
    "\n",
    "top_columns_name = importance(rf, columns, 2)"
   ]
  },
  {
   "cell_type": "code",
   "execution_count": 36,
   "metadata": {},
   "outputs": [
    {
     "data": {
      "text/plain": [
       "(569, 2)"
      ]
     },
     "metadata": {},
     "output_type": "display_data"
    },
    {
     "data": {
      "text/plain": [
       "(569,)"
      ]
     },
     "metadata": {},
     "output_type": "display_data"
    }
   ],
   "source": [
    "X = df[top_columns_name].values\n",
    "y = df['目的変数'].values\n",
    "\n",
    "display(X.shape, y.shape)"
   ]
  },
  {
   "cell_type": "markdown",
   "metadata": {},
   "source": [
    "### 学習"
   ]
  },
  {
   "cell_type": "code",
   "execution_count": 57,
   "metadata": {},
   "outputs": [
    {
     "name": "stdout",
     "output_type": "stream",
     "text": [
      "[1 0 0 1 1 0 0 0 0 1 1 0 1 0 1 0 1 1 1 0 0 1 0 1 1 0 1 1 1 0 1 1 1 1 1 1 1\n",
      " 1 0 1 1 0 1 1 0 1 1 1 1 1 0 0 0 0 1 1 1 0 0 1 1 0 0 1 1 1 0 0 1 1 0 0 1 0\n",
      " 1 0 1 0 1 0 0 1 1 0 1 0 0 0 1 1 1 1 0 1 1 1 0 0 1 0 0 1 0 0 1 1 1 0 0 1 0\n",
      " 1 1 0 1 0 1 1 1 0 0 1 1 0 1 0 0 1 1 0 0 0 1 1 1 0 0 1 0 0 1 0 1 1 0 1 0 0\n",
      " 1 1 1 1 1 1 1 0 0 1 1 1 1 1 1 1 1 1 1 1 1 0 1]\n"
     ]
    }
   ],
   "source": [
    "# ホールド・アウト法\n",
    "from sklearn.model_selection import train_test_split\n",
    "X_train, X_test, y_train, y_test = train_test_split(X, y, test_size=0.30, random_state=42)\n",
    "\n",
    "# パイプラインにより標準化してランダムフォレスト\n",
    "from sklearn.pipeline import Pipeline\n",
    "from sklearn.preprocessing import StandardScaler\n",
    "\n",
    "pipelines = {\n",
    "    'rf': Pipeline([('scl', StandardScaler()),\n",
    "                     ('est', RandomForestClassifier(criterion='gini', max_depth=1, n_estimators=10, random_state=42))])\n",
    "}\n",
    "\n",
    "for pipe_name, pipeline in pipelines.items():\n",
    "    pipeline.fit(X_train, y_train)\n",
    "\n",
    "# テストデータの予測\n",
    "# テストデータを訓練データで標準化\n",
    "X_test_std = pipelines['rf']['scl'].transform(X_test)\n",
    "pred = pipelines['rf'].predict(X_test_std)\n",
    "print(pred)"
   ]
  },
  {
   "cell_type": "markdown",
   "metadata": {},
   "source": [
    "### 混同行列の計算"
   ]
  },
  {
   "cell_type": "code",
   "execution_count": 60,
   "metadata": {},
   "outputs": [
    {
     "name": "stdout",
     "output_type": "stream",
     "text": [
      "[[57  6]\n",
      " [12 96]]\n"
     ]
    }
   ],
   "source": [
    "# 混同行列の計算には、scikit-learn の confusion_matrix() 関数を利用\n",
    "from sklearn.metrics import confusion_matrix\n",
    "\n",
    "confmat = confusion_matrix(y_true=y_test, y_pred=pred)\n",
    "print(confmat)"
   ]
  },
  {
   "cell_type": "markdown",
   "metadata": {},
   "source": [
    "### 混同行列の可視化"
   ]
  },
  {
   "cell_type": "code",
   "execution_count": 63,
   "metadata": {},
   "outputs": [
    {
     "data": {
      "text/plain": [
       "(<Figure size 720x720 with 1 Axes>,\n",
       " <matplotlib.axes._subplots.AxesSubplot at 0x7f44d85e8a20>)"
      ]
     },
     "execution_count": 63,
     "metadata": {},
     "output_type": "execute_result"
    },
    {
     "data": {
      "image/png": "[encoded data removed]",
      "text/plain": [
       "<Figure size 720x720 with 1 Axes>"
      ]
     },
     "metadata": {
      "needs_background": "light"
     },
     "output_type": "display_data"
    }
   ],
   "source": [
    "import numpy\n",
    "from matplotlib import pyplot\n",
    "import japanize_matplotlib\n",
    "# mlxtend パッケージに含まれる plot_confusion_matrix() 関数を使う\n",
    "from mlxtend.plotting import plot_confusion_matrix\n",
    "\n",
    "plot_confusion_matrix(conf_mat=confmat, figsize=(10,10))\n"
   ]
  },
  {
   "cell_type": "markdown",
   "metadata": {},
   "source": [
    "### 正解率\n",
    "- 予測サンプルの内、正解だったサンプルの割合"
   ]
  },
  {
   "cell_type": "code",
   "execution_count": 66,
   "metadata": {},
   "outputs": [
    {
     "name": "stdout",
     "output_type": "stream",
     "text": [
      "0.8947368421052632\n"
     ]
    }
   ],
   "source": [
    "# scikit-learn の accuracy_score() 関数により、正解率の計算が出来る\n",
    "from sklearn.metrics import accuracy_score\n",
    "\n",
    "print(accuracy_score(y_test, pred))"
   ]
  },
  {
   "cell_type": "markdown",
   "metadata": {},
   "source": [
    "### 誤分類率\n",
    "- 予測サンプルの内、不正解だった（予測を間違えた）サンプルの割合"
   ]
  },
  {
   "cell_type": "code",
   "execution_count": 67,
   "metadata": {},
   "outputs": [
    {
     "name": "stdout",
     "output_type": "stream",
     "text": [
      "0.10526315789473684\n"
     ]
    }
   ],
   "source": [
    "print(1 - accuracy_score(y_test, pred))"
   ]
  },
  {
   "cell_type": "markdown",
   "metadata": {},
   "source": [
    "### 適合率\n",
    "- 陽性クラスと予測されたサンプルの内、実際に陽性クラスだったサンプルの割合"
   ]
  },
  {
   "cell_type": "code",
   "execution_count": 69,
   "metadata": {},
   "outputs": [
    {
     "name": "stdout",
     "output_type": "stream",
     "text": [
      "0.9411764705882353\n"
     ]
    }
   ],
   "source": [
    "# scikit-learn の precision_score() 関数により、適合率の計算ができる\n",
    "from sklearn.metrics import precision_score\n",
    "\n",
    "print(precision_score(y_test, pred))"
   ]
  },
  {
   "cell_type": "markdown",
   "metadata": {},
   "source": [
    "### 再現率\n",
    "- 正解ラベルが陽性であるサンプルの内、予測サンプルが陽性であったサンプルの割合"
   ]
  },
  {
   "cell_type": "code",
   "execution_count": 71,
   "metadata": {},
   "outputs": [
    {
     "name": "stdout",
     "output_type": "stream",
     "text": [
      "0.8888888888888888\n"
     ]
    }
   ],
   "source": [
    "# scikit-learn の recall_score() 関数により、再現率の計算ができる\n",
    "from sklearn.metrics import recall_score\n",
    "\n",
    "print(recall_score(y_test, pred))"
   ]
  },
  {
   "cell_type": "markdown",
   "metadata": {},
   "source": [
    "### F1スコア\n",
    "- 適合率と再現率を組み合わせた尺度で、これらの調和平均を計算する"
   ]
  },
  {
   "cell_type": "code",
   "execution_count": 74,
   "metadata": {},
   "outputs": [
    {
     "name": "stdout",
     "output_type": "stream",
     "text": [
      "0.9142857142857143\n"
     ]
    }
   ],
   "source": [
    "# scikit-learn の f1_score() 関数により、F1スコアの計算ができる\n",
    "from sklearn.metrics import f1_score\n",
    "\n",
    "print(f1_score(y_test, pred))"
   ]
  },
  {
   "cell_type": "markdown",
   "metadata": {},
   "source": [
    "### 偽陽性率\n",
    "- 正解ラベルが陰性であるサンプルの内、予測サンプルが陽性であったサンプルの割合"
   ]
  },
  {
   "cell_type": "code",
   "execution_count": 79,
   "metadata": {},
   "outputs": [
    {
     "name": "stdout",
     "output_type": "stream",
     "text": [
      "[0.        0.0952381 1.       ]\n"
     ]
    }
   ],
   "source": [
    "# scikit-learn の roc_curve() 関数により、roc曲線を算出する際にfprの計算ができる\n",
    "from sklearn.metrics import roc_curve\n",
    "\n",
    "fpr, tpr, thresholds = roc_curve(y_test, pred)\n",
    "print(fpr)"
   ]
  },
  {
   "cell_type": "markdown",
   "metadata": {},
   "source": [
    "### ROC曲線\n",
    "- x軸に偽陽性率(FPR)を、y軸に真陽性率(=再現率)をプロットする。\n",
    "\n",
    "### AUC\n",
    "- ROCカーブの下の領域の面積。area under the curveの略。1に近いほどよい。"
   ]
  },
  {
   "cell_type": "code",
   "execution_count": 91,
   "metadata": {},
   "outputs": [
    {
     "data": {
      "text/plain": [
       "<matplotlib.legend.Legend at 0x7f44d84ec2b0>"
      ]
     },
     "execution_count": 91,
     "metadata": {},
     "output_type": "execute_result"
    },
    {
     "data": {
      "image/png": "[encoded data removed]",
      "text/plain": [
       "<Figure size 432x288 with 1 Axes>"
      ]
     },
     "metadata": {
      "needs_background": "light"
     },
     "output_type": "display_data"
    }
   ],
   "source": [
    "# scikit-learn の auc() 関数によりaucの計算ができる\n",
    "from sklearn.metrics import auc\n",
    "# AUCの算出\n",
    "fpr, tpr, thresholds = roc_curve(y_test, pred)\n",
    "roc_auc = auc(fpr, tpr)\n",
    "\n",
    "# ROC曲線の描画\n",
    "pyplot.plot(fpr, tpr, color='red', label='ROC curve (area = %.2f)' % roc_auc)\n",
    "pyplot.plot([0, 1], [0, 1], color='black', linestyle='--')\n",
    "\n",
    "pyplot.xlim([0.0, 1.0])\n",
    "pyplot.ylim([0.0, 1.05])\n",
    "pyplot.xlabel('False positive rate')\n",
    "pyplot.ylabel('True positive rate')\n",
    "pyplot.title('Receiver operating characteristic')\n",
    "pyplot.legend(loc=\"best\")"
   ]
  }
 ],
 "metadata": {
  "kernelspec": {
   "display_name": "Python 3",
   "language": "python",
   "name": "python3"
  },
  "language_info": {
   "codemirror_mode": {
    "name": "ipython",
    "version": 3
   },
   "file_extension": ".py",
   "mimetype": "text/x-python",
   "name": "python",
   "nbconvert_exporter": "python",
   "pygments_lexer": "ipython3",
   "version": "3.7.3"
  }
 },
 "nbformat": 4,
 "nbformat_minor": 2
}
