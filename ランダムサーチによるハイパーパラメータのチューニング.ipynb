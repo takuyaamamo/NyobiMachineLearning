{
 "cells": [
  {
   "cell_type": "markdown",
   "metadata": {},
   "source": [
    "## ランダムサーチ\n",
    "- パラメータをランダムに選択し、良さそうなパラメータを探す方法"
   ]
  },
  {
   "cell_type": "code",
   "execution_count": 1,
   "metadata": {},
   "outputs": [],
   "source": [
    "import numpy\n",
    "numpy.random.seed(0)"
   ]
  },
  {
   "cell_type": "code",
   "execution_count": 2,
   "metadata": {},
   "outputs": [
    {
     "name": "stdout",
     "output_type": "stream",
     "text": [
      "a = 0.5488135039273248, b = 630\n",
      "a = 0.8442657485810173, b = 764\n",
      "a = 0.5448831829968969, b = 10\n",
      "a = 0.6235636967859723, b = 755\n",
      "a = 0.4375872112626925, b = 71\n",
      "a = 0.05671297731744318, b = 397\n",
      "a = 0.3834415188257777, b = 487\n",
      "a = 0.8121687287754932, b = 175\n",
      "a = 0.5680445610939323, b = 678\n",
      "a = 0.8360787635373775, b = 73\n",
      "a = 0.08712929970154071, b = 116\n",
      "a = 0.36824153984054797, b = 710\n",
      "a = 0.7781567509498505, b = 432\n",
      "a = 0.8700872583584364, b = 100\n",
      "a = 0.7991585642167236, b = 756\n",
      "a = 0.5204774795512048, b = 148\n",
      "a = 0.11827442586893322, b = 289\n",
      "a = 0.5820197920751071, b = 698\n",
      "a = 0.9446689170495839, b = 544\n",
      "a = 0.10590760718779213, b = 152\n"
     ]
    }
   ],
   "source": [
    "for _ in range(20):# 20回繰り返す、\n",
    "    a = numpy.random.random()#  0.0 から 1.0 の範囲からランダムに選択\n",
    "    b = numpy.random.randint(1, 1001)#  0.0 から 1.0 の範囲からランダムに選択\n",
    "    print(f'a = {a}, b = {b}')"
   ]
  },
  {
   "cell_type": "markdown",
   "metadata": {},
   "source": [
    "### データの準備"
   ]
  },
  {
   "cell_type": "code",
   "execution_count": 3,
   "metadata": {},
   "outputs": [],
   "source": [
    "from pandas import DataFrame\n",
    "from sklearn.datasets import load_breast_cancer\n",
    "\n",
    "breast_cancer = load_breast_cancer()\n",
    "\n",
    "X = breast_cancer.data[:,:10]\n",
    "y = breast_cancer.target\n",
    "\n",
    "columns = ['半径', 'テクスチャ', '周囲の長さ', '面積', 'なめらかさ', 'コンパクト性', 'へこみ', 'へこみの数', '対称性', 'フラクタル次元']\n",
    "\n",
    "df = DataFrame(data=X[:,:10], columns=columns)\n",
    "df['目的変数'] = y"
   ]
  },
  {
   "cell_type": "code",
   "execution_count": 4,
   "metadata": {},
   "outputs": [],
   "source": [
    "X = df[['面積', 'へこみ']].values\n",
    "y = df['目的変数'].values"
   ]
  },
  {
   "cell_type": "code",
   "execution_count": 5,
   "metadata": {},
   "outputs": [],
   "source": [
    "from sklearn.model_selection import train_test_split\n",
    "\n",
    "X_train, X_test, y_train, y_test = train_test_split(X, y, test_size=0.30, random_state=42)"
   ]
  },
  {
   "cell_type": "markdown",
   "metadata": {},
   "source": [
    "### ランダムサーチで学習"
   ]
  },
  {
   "cell_type": "code",
   "execution_count": 6,
   "metadata": {},
   "outputs": [],
   "source": [
    "import numpy\n",
    "from sklearn.ensemble import RandomForestClassifier\n",
    "from sklearn.metrics import accuracy_score\n",
    "from sklearn.model_selection import StratifiedKFold\n",
    "\n",
    "# scikit-learn のランダムサーチを利用するために、RandomizedSearchCV を import\n",
    "from sklearn.model_selection import RandomizedSearchCV\n",
    "\n",
    "# パラメータの範囲（パラメータの分布とも呼ばれる）を与えるために、scipy というライブラリから randint を import\n",
    "from scipy.stats import randint\n",
    "\n",
    "param_dist = {'max_depth': randint(1,3), 'n_estimators': randint(10,31)}\n",
    "'''\n",
    "randint は randint(low, high) の形式で引数を取り、low 以上 high 未満の整数値を1つ返す。\n",
    "パラメータの範囲を定義。\n",
    "max_depth は 1 または 2\n",
    "n_estimators は 10 以上 30 以下の整数とする。\n",
    "'''\n",
    "\n",
    "rs = RandomizedSearchCV(\n",
    "    estimator = RandomForestClassifier(criterion='gini', random_state=42),# ランダムフォレスト\n",
    "    param_distributions = param_dist,#パラメータの範囲\n",
    "    scoring = 'accuracy',\n",
    "    cv = StratifiedKFold(n_splits=10, shuffle=True, random_state=42),# 交差検証に StratifiedKFold を利用する\n",
    "    n_iter = 10,# 探索回数は10回\n",
    "    return_train_score=True,\n",
    "    random_state=42)"
   ]
  },
  {
   "cell_type": "code",
   "execution_count": 7,
   "metadata": {},
   "outputs": [
    {
     "data": {
      "text/plain": [
       "RandomizedSearchCV(cv=StratifiedKFold(n_splits=10, random_state=42, shuffle=True),\n",
       "                   error_score='raise-deprecating',\n",
       "                   estimator=RandomForestClassifier(bootstrap=True,\n",
       "                                                    class_weight=None,\n",
       "                                                    criterion='gini',\n",
       "                                                    max_depth=None,\n",
       "                                                    max_features='auto',\n",
       "                                                    max_leaf_nodes=None,\n",
       "                                                    min_impurity_decrease=0.0,\n",
       "                                                    min_impurity_split=None,\n",
       "                                                    min_samples_leaf=1,\n",
       "                                                    min_samples_split=2,\n",
       "                                                    min_weight_...\n",
       "                                                    random_state=42, verbose=0,\n",
       "                                                    warm_start=False),\n",
       "                   iid='warn', n_iter=10, n_jobs=None,\n",
       "                   param_distributions={'max_depth': <scipy.stats._distn_infrastructure.rv_frozen object at 0x7f19ca48dc18>,\n",
       "                                        'n_estimators': <scipy.stats._distn_infrastructure.rv_frozen object at 0x7f19ca48dc50>},\n",
       "                   pre_dispatch='2*n_jobs', random_state=42, refit=True,\n",
       "                   return_train_score=True, scoring='accuracy', verbose=0)"
      ]
     },
     "execution_count": 7,
     "metadata": {},
     "output_type": "execute_result"
    }
   ],
   "source": [
    "rs.fit(X_train, y_train)"
   ]
  },
  {
   "cell_type": "markdown",
   "metadata": {},
   "source": [
    "### 探索結果の確認"
   ]
  },
  {
   "cell_type": "code",
   "execution_count": 8,
   "metadata": {},
   "outputs": [
    {
     "data": {
      "text/plain": [
       "{'max_depth': 2, 'n_estimators': 17}"
      ]
     },
     "execution_count": 8,
     "metadata": {},
     "output_type": "execute_result"
    }
   ],
   "source": [
    "# もっとも性能の良かったパラメータは best_params_ 属性に格納されている\n",
    "rs.best_params_"
   ]
  },
  {
   "cell_type": "code",
   "execution_count": 10,
   "metadata": {},
   "outputs": [
    {
     "data": {
      "text/plain": [
       "0.907035175879397"
      ]
     },
     "execution_count": 10,
     "metadata": {},
     "output_type": "execute_result"
    }
   ],
   "source": [
    "# この時のスコア（今回は層化10分割交差検証による正解率の平均）を確認\n",
    "rs.best_score_"
   ]
  },
  {
   "cell_type": "code",
   "execution_count": 11,
   "metadata": {},
   "outputs": [
    {
     "data": {
      "text/html": [
       "<div>\n",
       "<style scoped>\n",
       "    .dataframe tbody tr th:only-of-type {\n",
       "        vertical-align: middle;\n",
       "    }\n",
       "\n",
       "    .dataframe tbody tr th {\n",
       "        vertical-align: top;\n",
       "    }\n",
       "\n",
       "    .dataframe thead th {\n",
       "        text-align: right;\n",
       "    }\n",
       "</style>\n",
       "<table border=\"1\" class=\"dataframe\">\n",
       "  <thead>\n",
       "    <tr style=\"text-align: right;\">\n",
       "      <th></th>\n",
       "      <th>mean_fit_time</th>\n",
       "      <th>std_fit_time</th>\n",
       "      <th>mean_score_time</th>\n",
       "      <th>std_score_time</th>\n",
       "      <th>param_max_depth</th>\n",
       "      <th>param_n_estimators</th>\n",
       "      <th>params</th>\n",
       "      <th>split0_test_score</th>\n",
       "      <th>split1_test_score</th>\n",
       "      <th>split2_test_score</th>\n",
       "      <th>...</th>\n",
       "      <th>split2_train_score</th>\n",
       "      <th>split3_train_score</th>\n",
       "      <th>split4_train_score</th>\n",
       "      <th>split5_train_score</th>\n",
       "      <th>split6_train_score</th>\n",
       "      <th>split7_train_score</th>\n",
       "      <th>split8_train_score</th>\n",
       "      <th>split9_train_score</th>\n",
       "      <th>mean_train_score</th>\n",
       "      <th>std_train_score</th>\n",
       "    </tr>\n",
       "  </thead>\n",
       "  <tbody>\n",
       "    <tr>\n",
       "      <th>0</th>\n",
       "      <td>0.018265</td>\n",
       "      <td>0.001302</td>\n",
       "      <td>0.002774</td>\n",
       "      <td>0.000300</td>\n",
       "      <td>1</td>\n",
       "      <td>29</td>\n",
       "      <td>{'max_depth': 1, 'n_estimators': 29}</td>\n",
       "      <td>0.775</td>\n",
       "      <td>0.85</td>\n",
       "      <td>0.9</td>\n",
       "      <td>...</td>\n",
       "      <td>0.896648</td>\n",
       "      <td>0.891061</td>\n",
       "      <td>0.899441</td>\n",
       "      <td>0.879888</td>\n",
       "      <td>0.893855</td>\n",
       "      <td>0.885475</td>\n",
       "      <td>0.896648</td>\n",
       "      <td>0.894444</td>\n",
       "      <td>0.892238</td>\n",
       "      <td>0.005772</td>\n",
       "    </tr>\n",
       "    <tr>\n",
       "      <th>1</th>\n",
       "      <td>0.014755</td>\n",
       "      <td>0.000605</td>\n",
       "      <td>0.002273</td>\n",
       "      <td>0.000087</td>\n",
       "      <td>1</td>\n",
       "      <td>24</td>\n",
       "      <td>{'max_depth': 1, 'n_estimators': 24}</td>\n",
       "      <td>0.775</td>\n",
       "      <td>0.85</td>\n",
       "      <td>0.9</td>\n",
       "      <td>...</td>\n",
       "      <td>0.893855</td>\n",
       "      <td>0.879888</td>\n",
       "      <td>0.888268</td>\n",
       "      <td>0.877095</td>\n",
       "      <td>0.893855</td>\n",
       "      <td>0.882682</td>\n",
       "      <td>0.899441</td>\n",
       "      <td>0.900000</td>\n",
       "      <td>0.888883</td>\n",
       "      <td>0.007451</td>\n",
       "    </tr>\n",
       "    <tr>\n",
       "      <th>2</th>\n",
       "      <td>0.010435</td>\n",
       "      <td>0.000370</td>\n",
       "      <td>0.001795</td>\n",
       "      <td>0.000283</td>\n",
       "      <td>1</td>\n",
       "      <td>17</td>\n",
       "      <td>{'max_depth': 1, 'n_estimators': 17}</td>\n",
       "      <td>0.775</td>\n",
       "      <td>0.85</td>\n",
       "      <td>0.9</td>\n",
       "      <td>...</td>\n",
       "      <td>0.893855</td>\n",
       "      <td>0.879888</td>\n",
       "      <td>0.891061</td>\n",
       "      <td>0.877095</td>\n",
       "      <td>0.893855</td>\n",
       "      <td>0.885475</td>\n",
       "      <td>0.899441</td>\n",
       "      <td>0.897222</td>\n",
       "      <td>0.890281</td>\n",
       "      <td>0.007126</td>\n",
       "    </tr>\n",
       "    <tr>\n",
       "      <th>3</th>\n",
       "      <td>0.018082</td>\n",
       "      <td>0.000489</td>\n",
       "      <td>0.002727</td>\n",
       "      <td>0.000154</td>\n",
       "      <td>1</td>\n",
       "      <td>30</td>\n",
       "      <td>{'max_depth': 1, 'n_estimators': 30}</td>\n",
       "      <td>0.775</td>\n",
       "      <td>0.85</td>\n",
       "      <td>0.9</td>\n",
       "      <td>...</td>\n",
       "      <td>0.893855</td>\n",
       "      <td>0.888268</td>\n",
       "      <td>0.891061</td>\n",
       "      <td>0.879888</td>\n",
       "      <td>0.893855</td>\n",
       "      <td>0.885475</td>\n",
       "      <td>0.899441</td>\n",
       "      <td>0.894444</td>\n",
       "      <td>0.890282</td>\n",
       "      <td>0.005203</td>\n",
       "    </tr>\n",
       "    <tr>\n",
       "      <th>4</th>\n",
       "      <td>0.016686</td>\n",
       "      <td>0.000188</td>\n",
       "      <td>0.002562</td>\n",
       "      <td>0.000107</td>\n",
       "      <td>1</td>\n",
       "      <td>28</td>\n",
       "      <td>{'max_depth': 1, 'n_estimators': 28}</td>\n",
       "      <td>0.775</td>\n",
       "      <td>0.85</td>\n",
       "      <td>0.9</td>\n",
       "      <td>...</td>\n",
       "      <td>0.893855</td>\n",
       "      <td>0.888268</td>\n",
       "      <td>0.891061</td>\n",
       "      <td>0.879888</td>\n",
       "      <td>0.893855</td>\n",
       "      <td>0.885475</td>\n",
       "      <td>0.896648</td>\n",
       "      <td>0.894444</td>\n",
       "      <td>0.890003</td>\n",
       "      <td>0.004759</td>\n",
       "    </tr>\n",
       "  </tbody>\n",
       "</table>\n",
       "<p>5 rows × 32 columns</p>\n",
       "</div>"
      ],
      "text/plain": [
       "   mean_fit_time  std_fit_time  mean_score_time  std_score_time  \\\n",
       "0       0.018265      0.001302         0.002774        0.000300   \n",
       "1       0.014755      0.000605         0.002273        0.000087   \n",
       "2       0.010435      0.000370         0.001795        0.000283   \n",
       "3       0.018082      0.000489         0.002727        0.000154   \n",
       "4       0.016686      0.000188         0.002562        0.000107   \n",
       "\n",
       "  param_max_depth param_n_estimators                                params  \\\n",
       "0               1                 29  {'max_depth': 1, 'n_estimators': 29}   \n",
       "1               1                 24  {'max_depth': 1, 'n_estimators': 24}   \n",
       "2               1                 17  {'max_depth': 1, 'n_estimators': 17}   \n",
       "3               1                 30  {'max_depth': 1, 'n_estimators': 30}   \n",
       "4               1                 28  {'max_depth': 1, 'n_estimators': 28}   \n",
       "\n",
       "   split0_test_score  split1_test_score  split2_test_score  ...  \\\n",
       "0              0.775               0.85                0.9  ...   \n",
       "1              0.775               0.85                0.9  ...   \n",
       "2              0.775               0.85                0.9  ...   \n",
       "3              0.775               0.85                0.9  ...   \n",
       "4              0.775               0.85                0.9  ...   \n",
       "\n",
       "   split2_train_score  split3_train_score  split4_train_score  \\\n",
       "0            0.896648            0.891061            0.899441   \n",
       "1            0.893855            0.879888            0.888268   \n",
       "2            0.893855            0.879888            0.891061   \n",
       "3            0.893855            0.888268            0.891061   \n",
       "4            0.893855            0.888268            0.891061   \n",
       "\n",
       "   split5_train_score  split6_train_score  split7_train_score  \\\n",
       "0            0.879888            0.893855            0.885475   \n",
       "1            0.877095            0.893855            0.882682   \n",
       "2            0.877095            0.893855            0.885475   \n",
       "3            0.879888            0.893855            0.885475   \n",
       "4            0.879888            0.893855            0.885475   \n",
       "\n",
       "   split8_train_score  split9_train_score  mean_train_score  std_train_score  \n",
       "0            0.896648            0.894444          0.892238         0.005772  \n",
       "1            0.899441            0.900000          0.888883         0.007451  \n",
       "2            0.899441            0.897222          0.890281         0.007126  \n",
       "3            0.899441            0.894444          0.890282         0.005203  \n",
       "4            0.896648            0.894444          0.890003         0.004759  \n",
       "\n",
       "[5 rows x 32 columns]"
      ]
     },
     "metadata": {},
     "output_type": "display_data"
    },
    {
     "data": {
      "text/html": [
       "<div>\n",
       "<style scoped>\n",
       "    .dataframe tbody tr th:only-of-type {\n",
       "        vertical-align: middle;\n",
       "    }\n",
       "\n",
       "    .dataframe tbody tr th {\n",
       "        vertical-align: top;\n",
       "    }\n",
       "\n",
       "    .dataframe thead th {\n",
       "        text-align: right;\n",
       "    }\n",
       "</style>\n",
       "<table border=\"1\" class=\"dataframe\">\n",
       "  <thead>\n",
       "    <tr style=\"text-align: right;\">\n",
       "      <th></th>\n",
       "      <th>param_max_depth</th>\n",
       "      <th>param_n_estimators</th>\n",
       "      <th>mean_train_score</th>\n",
       "      <th>mean_test_score</th>\n",
       "    </tr>\n",
       "  </thead>\n",
       "  <tbody>\n",
       "    <tr>\n",
       "      <th>0</th>\n",
       "      <td>1</td>\n",
       "      <td>29</td>\n",
       "      <td>0.892238</td>\n",
       "      <td>0.881910</td>\n",
       "    </tr>\n",
       "    <tr>\n",
       "      <th>1</th>\n",
       "      <td>1</td>\n",
       "      <td>24</td>\n",
       "      <td>0.888883</td>\n",
       "      <td>0.874372</td>\n",
       "    </tr>\n",
       "    <tr>\n",
       "      <th>2</th>\n",
       "      <td>1</td>\n",
       "      <td>17</td>\n",
       "      <td>0.890281</td>\n",
       "      <td>0.869347</td>\n",
       "    </tr>\n",
       "    <tr>\n",
       "      <th>3</th>\n",
       "      <td>1</td>\n",
       "      <td>30</td>\n",
       "      <td>0.890282</td>\n",
       "      <td>0.881910</td>\n",
       "    </tr>\n",
       "    <tr>\n",
       "      <th>4</th>\n",
       "      <td>1</td>\n",
       "      <td>28</td>\n",
       "      <td>0.890003</td>\n",
       "      <td>0.881910</td>\n",
       "    </tr>\n",
       "    <tr>\n",
       "      <th>5</th>\n",
       "      <td>1</td>\n",
       "      <td>20</td>\n",
       "      <td>0.887767</td>\n",
       "      <td>0.871859</td>\n",
       "    </tr>\n",
       "    <tr>\n",
       "      <th>6</th>\n",
       "      <td>1</td>\n",
       "      <td>30</td>\n",
       "      <td>0.890282</td>\n",
       "      <td>0.881910</td>\n",
       "    </tr>\n",
       "    <tr>\n",
       "      <th>7</th>\n",
       "      <td>2</td>\n",
       "      <td>17</td>\n",
       "      <td>0.921556</td>\n",
       "      <td>0.907035</td>\n",
       "    </tr>\n",
       "    <tr>\n",
       "      <th>8</th>\n",
       "      <td>2</td>\n",
       "      <td>12</td>\n",
       "      <td>0.916530</td>\n",
       "      <td>0.899497</td>\n",
       "    </tr>\n",
       "    <tr>\n",
       "      <th>9</th>\n",
       "      <td>2</td>\n",
       "      <td>30</td>\n",
       "      <td>0.924350</td>\n",
       "      <td>0.904523</td>\n",
       "    </tr>\n",
       "  </tbody>\n",
       "</table>\n",
       "</div>"
      ],
      "text/plain": [
       "  param_max_depth param_n_estimators  mean_train_score  mean_test_score\n",
       "0               1                 29          0.892238         0.881910\n",
       "1               1                 24          0.888883         0.874372\n",
       "2               1                 17          0.890281         0.869347\n",
       "3               1                 30          0.890282         0.881910\n",
       "4               1                 28          0.890003         0.881910\n",
       "5               1                 20          0.887767         0.871859\n",
       "6               1                 30          0.890282         0.881910\n",
       "7               2                 17          0.921556         0.907035\n",
       "8               2                 12          0.916530         0.899497\n",
       "9               2                 30          0.924350         0.904523"
      ]
     },
     "metadata": {},
     "output_type": "display_data"
    }
   ],
   "source": [
    "# cv_results_ 属性には、探索結果の詳細が含まれている。 DataFrame に変換して表示してみる。\n",
    "df_random_result = DataFrame(rs.cv_results_)\n",
    "display(df_random_result.head())\n",
    "display(df_random_result[['param_max_depth', 'param_n_estimators', 'mean_train_score', 'mean_test_score']])"
   ]
  },
  {
   "cell_type": "markdown",
   "metadata": {},
   "source": [
    "### 最も良かった学習モデルを取り出す"
   ]
  },
  {
   "cell_type": "code",
   "execution_count": 14,
   "metadata": {},
   "outputs": [
    {
     "name": "stdout",
     "output_type": "stream",
     "text": [
      "RandomForestClassifier(bootstrap=True, class_weight=None, criterion='gini',\n",
      "                       max_depth=2, max_features='auto', max_leaf_nodes=None,\n",
      "                       min_impurity_decrease=0.0, min_impurity_split=None,\n",
      "                       min_samples_leaf=1, min_samples_split=2,\n",
      "                       min_weight_fraction_leaf=0.0, n_estimators=17,\n",
      "                       n_jobs=None, oob_score=False, random_state=42, verbose=0,\n",
      "                       warm_start=False)\n"
     ]
    },
    {
     "data": {
      "text/plain": [
       "0.9181286549707602"
      ]
     },
     "execution_count": 14,
     "metadata": {},
     "output_type": "execute_result"
    }
   ],
   "source": [
    "# もっとも良かった機械学習モデルが best_estimator_ 属性に格納されている\n",
    "clf = rs.best_estimator_\n",
    "print(clf)\n",
    "# scoreメソッドを利用して、正解率の計算する\n",
    "clf.score(X_test, y_test)\n"
   ]
  }
 ],
 "metadata": {
  "kernelspec": {
   "display_name": "Python 3",
   "language": "python",
   "name": "python3"
  },
  "language_info": {
   "codemirror_mode": {
    "name": "ipython",
    "version": 3
   },
   "file_extension": ".py",
   "mimetype": "text/x-python",
   "name": "python",
   "nbconvert_exporter": "python",
   "pygments_lexer": "ipython3",
   "version": "3.7.3"
  }
 },
 "nbformat": 4,
 "nbformat_minor": 2
}
