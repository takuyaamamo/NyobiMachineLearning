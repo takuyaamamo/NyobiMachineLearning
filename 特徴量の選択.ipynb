{
 "cells": [
  {
   "cell_type": "markdown",
   "metadata": {},
   "source": [
    "## 特徴量の選択\n",
    "- ランダムフォレストを使用し特徴量の重要度（貢献度）を計算する"
   ]
  },
  {
   "cell_type": "markdown",
   "metadata": {},
   "source": [
    "### データを準備"
   ]
  },
  {
   "cell_type": "code",
   "execution_count": 25,
   "metadata": {},
   "outputs": [
    {
     "data": {
      "text/html": [
       "<div>\n",
       "<style scoped>\n",
       "    .dataframe tbody tr th:only-of-type {\n",
       "        vertical-align: middle;\n",
       "    }\n",
       "\n",
       "    .dataframe tbody tr th {\n",
       "        vertical-align: top;\n",
       "    }\n",
       "\n",
       "    .dataframe thead th {\n",
       "        text-align: right;\n",
       "    }\n",
       "</style>\n",
       "<table border=\"1\" class=\"dataframe\">\n",
       "  <thead>\n",
       "    <tr style=\"text-align: right;\">\n",
       "      <th></th>\n",
       "      <th>半径</th>\n",
       "      <th>テクスチャ</th>\n",
       "      <th>周囲の長さ</th>\n",
       "      <th>面積</th>\n",
       "      <th>なめらかさ</th>\n",
       "      <th>コンパクト性</th>\n",
       "      <th>へこみ</th>\n",
       "      <th>へこみの数</th>\n",
       "      <th>対称性</th>\n",
       "      <th>フラクタル次元</th>\n",
       "      <th>目的変数</th>\n",
       "    </tr>\n",
       "  </thead>\n",
       "  <tbody>\n",
       "    <tr>\n",
       "      <th>0</th>\n",
       "      <td>17.99</td>\n",
       "      <td>10.38</td>\n",
       "      <td>122.80</td>\n",
       "      <td>1001.0</td>\n",
       "      <td>0.11840</td>\n",
       "      <td>0.27760</td>\n",
       "      <td>0.3001</td>\n",
       "      <td>0.14710</td>\n",
       "      <td>0.2419</td>\n",
       "      <td>0.07871</td>\n",
       "      <td>0</td>\n",
       "    </tr>\n",
       "    <tr>\n",
       "      <th>1</th>\n",
       "      <td>20.57</td>\n",
       "      <td>17.77</td>\n",
       "      <td>132.90</td>\n",
       "      <td>1326.0</td>\n",
       "      <td>0.08474</td>\n",
       "      <td>0.07864</td>\n",
       "      <td>0.0869</td>\n",
       "      <td>0.07017</td>\n",
       "      <td>0.1812</td>\n",
       "      <td>0.05667</td>\n",
       "      <td>0</td>\n",
       "    </tr>\n",
       "    <tr>\n",
       "      <th>2</th>\n",
       "      <td>19.69</td>\n",
       "      <td>21.25</td>\n",
       "      <td>130.00</td>\n",
       "      <td>1203.0</td>\n",
       "      <td>0.10960</td>\n",
       "      <td>0.15990</td>\n",
       "      <td>0.1974</td>\n",
       "      <td>0.12790</td>\n",
       "      <td>0.2069</td>\n",
       "      <td>0.05999</td>\n",
       "      <td>0</td>\n",
       "    </tr>\n",
       "    <tr>\n",
       "      <th>3</th>\n",
       "      <td>11.42</td>\n",
       "      <td>20.38</td>\n",
       "      <td>77.58</td>\n",
       "      <td>386.1</td>\n",
       "      <td>0.14250</td>\n",
       "      <td>0.28390</td>\n",
       "      <td>0.2414</td>\n",
       "      <td>0.10520</td>\n",
       "      <td>0.2597</td>\n",
       "      <td>0.09744</td>\n",
       "      <td>0</td>\n",
       "    </tr>\n",
       "    <tr>\n",
       "      <th>4</th>\n",
       "      <td>20.29</td>\n",
       "      <td>14.34</td>\n",
       "      <td>135.10</td>\n",
       "      <td>1297.0</td>\n",
       "      <td>0.10030</td>\n",
       "      <td>0.13280</td>\n",
       "      <td>0.1980</td>\n",
       "      <td>0.10430</td>\n",
       "      <td>0.1809</td>\n",
       "      <td>0.05883</td>\n",
       "      <td>0</td>\n",
       "    </tr>\n",
       "  </tbody>\n",
       "</table>\n",
       "</div>"
      ],
      "text/plain": [
       "      半径  テクスチャ   周囲の長さ      面積    なめらかさ   コンパクト性     へこみ    へこみの数     対称性  \\\n",
       "0  17.99  10.38  122.80  1001.0  0.11840  0.27760  0.3001  0.14710  0.2419   \n",
       "1  20.57  17.77  132.90  1326.0  0.08474  0.07864  0.0869  0.07017  0.1812   \n",
       "2  19.69  21.25  130.00  1203.0  0.10960  0.15990  0.1974  0.12790  0.2069   \n",
       "3  11.42  20.38   77.58   386.1  0.14250  0.28390  0.2414  0.10520  0.2597   \n",
       "4  20.29  14.34  135.10  1297.0  0.10030  0.13280  0.1980  0.10430  0.1809   \n",
       "\n",
       "   フラクタル次元  目的変数  \n",
       "0  0.07871     0  \n",
       "1  0.05667     0  \n",
       "2  0.05999     0  \n",
       "3  0.09744     0  \n",
       "4  0.05883     0  "
      ]
     },
     "metadata": {},
     "output_type": "display_data"
    }
   ],
   "source": [
    "from sklearn.datasets import load_breast_cancer\n",
    "import pandas\n",
    "from IPython.core.display import display\n",
    "\n",
    "breast_cancer = load_breast_cancer()\n",
    "X = breast_cancer.data[:, :10]\n",
    "y = breast_cancer.target\n",
    "columns = ['半径', 'テクスチャ', '周囲の長さ', '面積', 'なめらかさ', 'コンパクト性', 'へこみ', 'へこみの数', '対称性', 'フラクタル次元']\n",
    "\n",
    "df = pandas.DataFrame(X, columns=columns)\n",
    "df['目的変数'] = y\n",
    "display(df.head())"
   ]
  },
  {
   "cell_type": "markdown",
   "metadata": {},
   "source": [
    "### ランダムフォレスト "
   ]
  },
  {
   "cell_type": "code",
   "execution_count": 26,
   "metadata": {},
   "outputs": [
    {
     "data": {
      "text/plain": [
       "RandomForestClassifier(bootstrap=True, class_weight=None, criterion='gini',\n",
       "                       max_depth=None, max_features='auto', max_leaf_nodes=None,\n",
       "                       min_impurity_decrease=0.0, min_impurity_split=None,\n",
       "                       min_samples_leaf=1, min_samples_split=2,\n",
       "                       min_weight_fraction_leaf=0.0, n_estimators=100,\n",
       "                       n_jobs=None, oob_score=False, random_state=42, verbose=0,\n",
       "                       warm_start=False)"
      ]
     },
     "execution_count": 26,
     "metadata": {},
     "output_type": "execute_result"
    }
   ],
   "source": [
    "from sklearn.ensemble import RandomForestClassifier\n",
    "\n",
    "rf = RandomForestClassifier(max_depth=None, n_estimators=100, random_state=42)\n",
    "'''\n",
    "情報利得の計算にはデフォルトのジニ指数を (criterion='gini')\n",
    "決定木の深さは2を (max_depth=None)、ランダムフォレストの場合弱い木を多くすることが大事\n",
    "決定木の数は (n_estimators=100) を指定\n",
    "'''\n",
    "\n",
    "rf.fit(X, y)"
   ]
  },
  {
   "cell_type": "markdown",
   "metadata": {},
   "source": [
    "### 特徴量の選択自動化"
   ]
  },
  {
   "cell_type": "code",
   "execution_count": 41,
   "metadata": {},
   "outputs": [],
   "source": [
    "def importance(fit_data, columns, count):\n",
    "    '''\n",
    "    fit_dataはランダムフォレストか決定木のfit\n",
    "    columnsは特徴量のラベールネーム\n",
    "    countは抽出する特徴量の数かmean（平均以上）\n",
    "    '''\n",
    "    import numpy\n",
    "    from matplotlib import pyplot\n",
    "    import japanize_matplotlib\n",
    "\n",
    "    feature_names = numpy.array(columns)\n",
    "    # 特徴重要度はfeature_importance_に格納されている\n",
    "    feature_importances = fit_data.feature_importances_\n",
    "    # ソートするが、返す値はソート前のindex、これの通りに後から並び替えたりできる\n",
    "    indices = numpy.argsort(feature_importances)\n",
    "\n",
    "    pyplot.figure(figsize=(11, 7))\n",
    "    pyplot.title('Feature Imoportances')\n",
    "\n",
    "    # barhで横向きの棒グラフの描写設定（縦はbar）,range(len(indices)):横軸9個, feature_importances[indices]:indecesの順番でプロット\n",
    "    print(range(len(indices)))\n",
    "    print(feature_importances[indices])\n",
    "    pyplot.barh(range(len(indices)), feature_importances[indices], color='b', align='center')\n",
    "    pyplot.yticks(range(len(indices)), feature_names[indices])\n",
    "    pyplot.show()\n",
    "\n",
    "    # 特徴量の重要度から決定領域をプロットするためのデータを決める\n",
    "    print(feature_names[indices])\n",
    "    if count == 'mean':\n",
    "        mu = feature_importances.mean()\n",
    "        top_culumns_name = feature_names[indices][::-1][feature_importances[indices][::-1] > mu]\n",
    "        print(top_culumns_name)\n",
    "    elif isinstance(count, int):\n",
    "        # [::-1]で逆順に、[:2]で最初から二番目まで取り出し\n",
    "        top_columns_name = feature_names[indices][::-1][:count]\n",
    "        print(top_columns_name)"
   ]
  },
  {
   "cell_type": "code",
   "execution_count": 42,
   "metadata": {},
   "outputs": [
    {
     "name": "stdout",
     "output_type": "stream",
     "text": [
      "range(0, 10)\n",
      "[0.01720982 0.01891216 0.02652962 0.04372952 0.05700712 0.12412332\n",
      " 0.12765945 0.1300834  0.16039278 0.29435283]\n"
     ]
    },
    {
     "data": {
      "image/png": "[encoded data removed]",
      "text/plain": [
       "<Figure size 792x504 with 1 Axes>"
      ]
     },
     "metadata": {
      "needs_background": "light"
     },
     "output_type": "display_data"
    },
    {
     "name": "stdout",
     "output_type": "stream",
     "text": [
      "['対称性' 'フラクタル次元' 'なめらかさ' 'コンパクト性' 'テクスチャ' '半径' 'へこみ' '面積' '周囲の長さ' 'へこみの数']\n",
      "['へこみの数' '周囲の長さ' '面積']\n",
      "range(0, 10)\n",
      "[0.01720982 0.01891216 0.02652962 0.04372952 0.05700712 0.12412332\n",
      " 0.12765945 0.1300834  0.16039278 0.29435283]\n"
     ]
    },
    {
     "data": {
      "image/png": "[encoded data removed]",
      "text/plain": [
       "<Figure size 792x504 with 1 Axes>"
      ]
     },
     "metadata": {
      "needs_background": "light"
     },
     "output_type": "display_data"
    },
    {
     "name": "stdout",
     "output_type": "stream",
     "text": [
      "['対称性' 'フラクタル次元' 'なめらかさ' 'コンパクト性' 'テクスチャ' '半径' 'へこみ' '面積' '周囲の長さ' 'へこみの数']\n",
      "['へこみの数' '周囲の長さ' '面積' 'へこみ' '半径']\n"
     ]
    }
   ],
   "source": [
    "# 自動化の確認\n",
    "\n",
    "importance(rf, columns, 3)\n",
    "importance(rf, columns, 'mean')"
   ]
  }
 ],
 "metadata": {
  "kernelspec": {
   "display_name": "Python 3",
   "language": "python",
   "name": "python3"
  },
  "language_info": {
   "codemirror_mode": {
    "name": "ipython",
    "version": 3
   },
   "file_extension": ".py",
   "mimetype": "text/x-python",
   "name": "python",
   "nbconvert_exporter": "python",
   "pygments_lexer": "ipython3",
   "version": "3.7.3"
  }
 },
 "nbformat": 4,
 "nbformat_minor": 2
}
