{
 "cells": [
  {
   "cell_type": "markdown",
   "metadata": {},
   "source": [
    "## データの準備"
   ]
  },
  {
   "cell_type": "code",
   "execution_count": 25,
   "metadata": {},
   "outputs": [
    {
     "data": {
      "text/html": [
       "<div>\n",
       "<style scoped>\n",
       "    .dataframe tbody tr th:only-of-type {\n",
       "        vertical-align: middle;\n",
       "    }\n",
       "\n",
       "    .dataframe tbody tr th {\n",
       "        vertical-align: top;\n",
       "    }\n",
       "\n",
       "    .dataframe thead th {\n",
       "        text-align: right;\n",
       "    }\n",
       "</style>\n",
       "<table border=\"1\" class=\"dataframe\">\n",
       "  <thead>\n",
       "    <tr style=\"text-align: right;\">\n",
       "      <th></th>\n",
       "      <th>半径</th>\n",
       "      <th>テクスチャ</th>\n",
       "      <th>周囲の長さ</th>\n",
       "      <th>面積</th>\n",
       "      <th>なめらかさ</th>\n",
       "      <th>コンパクト性</th>\n",
       "      <th>へこみ</th>\n",
       "      <th>へこみの数</th>\n",
       "      <th>対称性</th>\n",
       "      <th>フラクタル次元</th>\n",
       "      <th>目的変数</th>\n",
       "    </tr>\n",
       "  </thead>\n",
       "  <tbody>\n",
       "    <tr>\n",
       "      <th>0</th>\n",
       "      <td>17.99</td>\n",
       "      <td>10.38</td>\n",
       "      <td>122.80</td>\n",
       "      <td>1001.0</td>\n",
       "      <td>0.11840</td>\n",
       "      <td>0.27760</td>\n",
       "      <td>0.3001</td>\n",
       "      <td>0.14710</td>\n",
       "      <td>0.2419</td>\n",
       "      <td>0.07871</td>\n",
       "      <td>0</td>\n",
       "    </tr>\n",
       "    <tr>\n",
       "      <th>1</th>\n",
       "      <td>20.57</td>\n",
       "      <td>17.77</td>\n",
       "      <td>132.90</td>\n",
       "      <td>1326.0</td>\n",
       "      <td>0.08474</td>\n",
       "      <td>0.07864</td>\n",
       "      <td>0.0869</td>\n",
       "      <td>0.07017</td>\n",
       "      <td>0.1812</td>\n",
       "      <td>0.05667</td>\n",
       "      <td>0</td>\n",
       "    </tr>\n",
       "    <tr>\n",
       "      <th>2</th>\n",
       "      <td>19.69</td>\n",
       "      <td>21.25</td>\n",
       "      <td>130.00</td>\n",
       "      <td>1203.0</td>\n",
       "      <td>0.10960</td>\n",
       "      <td>0.15990</td>\n",
       "      <td>0.1974</td>\n",
       "      <td>0.12790</td>\n",
       "      <td>0.2069</td>\n",
       "      <td>0.05999</td>\n",
       "      <td>0</td>\n",
       "    </tr>\n",
       "    <tr>\n",
       "      <th>3</th>\n",
       "      <td>11.42</td>\n",
       "      <td>20.38</td>\n",
       "      <td>77.58</td>\n",
       "      <td>386.1</td>\n",
       "      <td>0.14250</td>\n",
       "      <td>0.28390</td>\n",
       "      <td>0.2414</td>\n",
       "      <td>0.10520</td>\n",
       "      <td>0.2597</td>\n",
       "      <td>0.09744</td>\n",
       "      <td>0</td>\n",
       "    </tr>\n",
       "    <tr>\n",
       "      <th>4</th>\n",
       "      <td>20.29</td>\n",
       "      <td>14.34</td>\n",
       "      <td>135.10</td>\n",
       "      <td>1297.0</td>\n",
       "      <td>0.10030</td>\n",
       "      <td>0.13280</td>\n",
       "      <td>0.1980</td>\n",
       "      <td>0.10430</td>\n",
       "      <td>0.1809</td>\n",
       "      <td>0.05883</td>\n",
       "      <td>0</td>\n",
       "    </tr>\n",
       "  </tbody>\n",
       "</table>\n",
       "</div>"
      ],
      "text/plain": [
       "      半径  テクスチャ   周囲の長さ      面積    なめらかさ   コンパクト性     へこみ    へこみの数     対称性  \\\n",
       "0  17.99  10.38  122.80  1001.0  0.11840  0.27760  0.3001  0.14710  0.2419   \n",
       "1  20.57  17.77  132.90  1326.0  0.08474  0.07864  0.0869  0.07017  0.1812   \n",
       "2  19.69  21.25  130.00  1203.0  0.10960  0.15990  0.1974  0.12790  0.2069   \n",
       "3  11.42  20.38   77.58   386.1  0.14250  0.28390  0.2414  0.10520  0.2597   \n",
       "4  20.29  14.34  135.10  1297.0  0.10030  0.13280  0.1980  0.10430  0.1809   \n",
       "\n",
       "   フラクタル次元  目的変数  \n",
       "0  0.07871     0  \n",
       "1  0.05667     0  \n",
       "2  0.05999     0  \n",
       "3  0.09744     0  \n",
       "4  0.05883     0  "
      ]
     },
     "metadata": {},
     "output_type": "display_data"
    }
   ],
   "source": [
    "from  pandas import DataFrame\n",
    "from sklearn.datasets import load_breast_cancer\n",
    "\n",
    "brest_cancer = load_breast_cancer()\n",
    "\n",
    "X = brest_cancer.data[:,:10]\n",
    "y = brest_cancer.target\n",
    "\n",
    "columns = ['半径', 'テクスチャ', '周囲の長さ', '面積', 'なめらかさ', 'コンパクト性', 'へこみ', 'へこみの数', '対称性', 'フラクタル次元']\n",
    "\n",
    "df = DataFrame(data=X[:,:10], columns=columns)\n",
    "df['目的変数'] = y\n",
    "\n",
    "display(df.head())"
   ]
  },
  {
   "cell_type": "code",
   "execution_count": 26,
   "metadata": {},
   "outputs": [],
   "source": [
    "X = df[['面積', 'へこみ']].values\n",
    "y = df['目的変数'].values"
   ]
  },
  {
   "cell_type": "markdown",
   "metadata": {},
   "source": [
    "## 層化k分割交差検証法"
   ]
  },
  {
   "cell_type": "code",
   "execution_count": 27,
   "metadata": {},
   "outputs": [
    {
     "data": {
      "text/plain": [
       "'\\nデータの分割方法を与えた StratifiedKFold のインスタンスを作成\\nn_splits パラメータが  k  に相当し、ここでは  k=10  とする\\nshuffle パラメータはデータの分割時にサンプルをシャッフルするかどうかで、True にすることでシャッフルする。\\nrandom_state はこれまでと同じで、再現性の確保のためのパラメータ。\\n'"
      ]
     },
     "execution_count": 27,
     "metadata": {},
     "output_type": "execute_result"
    }
   ],
   "source": [
    "import numpy\n",
    "\n",
    "# ランダムフォレストモデルを作成\n",
    "from sklearn.ensemble import RandomForestClassifier\n",
    "rf = RandomForestClassifier(criterion='gini', max_depth=1, n_estimators=10, random_state=42)\n",
    "\n",
    "from sklearn.metrics import accuracy_score\n",
    "\n",
    "# scikit-learn の層化  k  分割交差検証を利用するために、StratifiedKFold クラスを import \n",
    "from sklearn.model_selection import StratifiedKFold\n",
    "\n",
    "skf = StratifiedKFold(n_splits=10, shuffle=True, random_state=42)\n",
    "'''\n",
    "データの分割方法を与えた StratifiedKFold のインスタンスを作成\n",
    "n_splits パラメータが  k  に相当し、ここでは  k=10  とする\n",
    "shuffle パラメータはデータの分割時にサンプルをシャッフルするかどうかで、True にすることでシャッフルする。\n",
    "random_state はこれまでと同じで、再現性の確保のためのパラメータ。\n",
    "'''"
   ]
  },
  {
   "cell_type": "code",
   "execution_count": 29,
   "metadata": {},
   "outputs": [
    {
     "name": "stdout",
     "output_type": "stream",
     "text": [
      "分割: 0, 正解率: 0.8793103448275862\n",
      "分割: 1, 正解率: 0.9137931034482759\n",
      "分割: 2, 正解率: 0.9298245614035088\n",
      "分割: 3, 正解率: 0.8771929824561403\n",
      "分割: 4, 正解率: 0.8596491228070176\n",
      "分割: 5, 正解率: 0.9649122807017544\n",
      "分割: 6, 正解率: 0.8947368421052632\n",
      "分割: 7, 正解率: 0.8214285714285714\n",
      "分割: 8, 正解率: 0.8928571428571429\n",
      "分割: 9, 正解率: 0.8928571428571429\n"
     ]
    }
   ],
   "source": [
    "# 各分割毎の正解率を格納するリスト\n",
    "scores = []\n",
    "\n",
    "# 各分割に対してランダムフォレストを適応する\n",
    "# skf.split(X, y)でデータをk分割している\n",
    "for i, (train_index, test_index) in enumerate(skf.split(X, y)):\n",
    "    \n",
    "    # train_index は訓練データに利用するデータのインデックスが格納されたリスト\n",
    "    # test_index はテストデータに利用するデータのインデックスが格納されたリスト\n",
    "    X_train, X_test = X[train_index], X[test_index]\n",
    "    y_train, y_test = y[train_index], y[test_index]\n",
    "    \n",
    "\n",
    "    # ランダムフォレストモデルの学習\n",
    "    rf.fit(X_train, y_train)\n",
    "    \n",
    "    # テストデータの予測\n",
    "    pred = rf.predict(X_test)\n",
    "    \n",
    "    # 正解率の計算\n",
    "    acc = accuracy_score(y_test, pred)\n",
    "    scores.append(acc)\n",
    "    \n",
    "    # 正解率の表示\n",
    "    print(f'分割: {i}, 正解率: {acc}')"
   ]
  },
  {
   "cell_type": "code",
   "execution_count": 30,
   "metadata": {},
   "outputs": [
    {
     "data": {
      "text/plain": [
       "0.8926562094892402"
      ]
     },
     "execution_count": 30,
     "metadata": {},
     "output_type": "execute_result"
    }
   ],
   "source": [
    "# accの平均値を計算\n",
    "numpy.mean(scores)"
   ]
  }
 ],
 "metadata": {
  "kernelspec": {
   "display_name": "Python 3",
   "language": "python",
   "name": "python3"
  },
  "language_info": {
   "codemirror_mode": {
    "name": "ipython",
    "version": 3
   },
   "file_extension": ".py",
   "mimetype": "text/x-python",
   "name": "python",
   "nbconvert_exporter": "python",
   "pygments_lexer": "ipython3",
   "version": "3.7.3"
  }
 },
 "nbformat": 4,
 "nbformat_minor": 2
}
