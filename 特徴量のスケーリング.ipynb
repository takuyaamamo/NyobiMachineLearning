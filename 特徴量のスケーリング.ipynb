{
 "cells": [
  {
   "cell_type": "markdown",
   "metadata": {},
   "source": [
    "## 特徴量のスケーリング"
   ]
  },
  {
   "cell_type": "markdown",
   "metadata": {},
   "source": [
    "### データの準備"
   ]
  },
  {
   "cell_type": "code",
   "execution_count": 4,
   "metadata": {},
   "outputs": [
    {
     "data": {
      "text/html": [
       "<div>\n",
       "<style scoped>\n",
       "    .dataframe tbody tr th:only-of-type {\n",
       "        vertical-align: middle;\n",
       "    }\n",
       "\n",
       "    .dataframe tbody tr th {\n",
       "        vertical-align: top;\n",
       "    }\n",
       "\n",
       "    .dataframe thead th {\n",
       "        text-align: right;\n",
       "    }\n",
       "</style>\n",
       "<table border=\"1\" class=\"dataframe\">\n",
       "  <thead>\n",
       "    <tr style=\"text-align: right;\">\n",
       "      <th></th>\n",
       "      <th>name</th>\n",
       "      <th>gender</th>\n",
       "      <th>age</th>\n",
       "      <th>height</th>\n",
       "      <th>weight</th>\n",
       "      <th>size</th>\n",
       "    </tr>\n",
       "  </thead>\n",
       "  <tbody>\n",
       "    <tr>\n",
       "      <th>0</th>\n",
       "      <td>Ryo</td>\n",
       "      <td>M</td>\n",
       "      <td>30.0</td>\n",
       "      <td>186</td>\n",
       "      <td>72.0</td>\n",
       "      <td>L</td>\n",
       "    </tr>\n",
       "    <tr>\n",
       "      <th>1</th>\n",
       "      <td>Kaori</td>\n",
       "      <td>F</td>\n",
       "      <td>20.0</td>\n",
       "      <td>168</td>\n",
       "      <td>47.0</td>\n",
       "      <td>M</td>\n",
       "    </tr>\n",
       "    <tr>\n",
       "      <th>2</th>\n",
       "      <td>Hideyuki</td>\n",
       "      <td>M</td>\n",
       "      <td>NaN</td>\n",
       "      <td>175</td>\n",
       "      <td>62.0</td>\n",
       "      <td>L</td>\n",
       "    </tr>\n",
       "    <tr>\n",
       "      <th>3</th>\n",
       "      <td>Hayato</td>\n",
       "      <td>M</td>\n",
       "      <td>NaN</td>\n",
       "      <td>210</td>\n",
       "      <td>90.0</td>\n",
       "      <td>XL</td>\n",
       "    </tr>\n",
       "    <tr>\n",
       "      <th>4</th>\n",
       "      <td>Miki</td>\n",
       "      <td>F</td>\n",
       "      <td>23.0</td>\n",
       "      <td>160</td>\n",
       "      <td>NaN</td>\n",
       "      <td>None</td>\n",
       "    </tr>\n",
       "    <tr>\n",
       "      <th>5</th>\n",
       "      <td>Saeko</td>\n",
       "      <td>F</td>\n",
       "      <td>25.0</td>\n",
       "      <td>163</td>\n",
       "      <td>NaN</td>\n",
       "      <td>S</td>\n",
       "    </tr>\n",
       "  </tbody>\n",
       "</table>\n",
       "</div>"
      ],
      "text/plain": [
       "       name gender   age  height  weight  size\n",
       "0       Ryo      M  30.0     186    72.0     L\n",
       "1     Kaori      F  20.0     168    47.0     M\n",
       "2  Hideyuki      M   NaN     175    62.0     L\n",
       "3    Hayato      M   NaN     210    90.0    XL\n",
       "4      Miki      F  23.0     160     NaN  None\n",
       "5     Saeko      F  25.0     163     NaN     S"
      ]
     },
     "metadata": {},
     "output_type": "display_data"
    }
   ],
   "source": [
    "import numpy \n",
    "import pandas\n",
    "from IPython.core.display import display\n",
    "\n",
    "data = {'name': ['Ryo', 'Kaori', 'Hideyuki', 'Hayato', 'Miki', 'Saeko'],  # 名前\n",
    "        'gender': ['M', 'F', 'M', 'M', 'F', 'F'],  # 性別\n",
    "        'height': [186, 168, 175, 210, 160, 163],  # 身長\n",
    "        'weight': [72, 47, 62, 90, None, numpy.NaN],  # 体重\n",
    "        'age': [30, 20, None , numpy.NaN, 23, 25],  # 年齢\n",
    "        'size': ['L', 'M', 'L', 'XL', None, 'S']  # 服のサイズ\n",
    "        }\n",
    "\n",
    "columns = ['name', 'gender', 'age', 'height', 'weight', 'size']\n",
    "df = pandas.DataFrame(data, columns=columns)\n",
    "\n",
    "display(df)"
   ]
  },
  {
   "cell_type": "markdown",
   "metadata": {},
   "source": [
    "### データの抽出"
   ]
  },
  {
   "cell_type": "code",
   "execution_count": 10,
   "metadata": {},
   "outputs": [
    {
     "data": {
      "text/plain": [
       "array([186, 168, 175, 210, 160, 163])"
      ]
     },
     "metadata": {},
     "output_type": "display_data"
    },
    {
     "data": {
      "text/plain": [
       "array([[186],\n",
       "       [168],\n",
       "       [175],\n",
       "       [210],\n",
       "       [160],\n",
       "       [163]])"
      ]
     },
     "metadata": {},
     "output_type": "display_data"
    },
    {
     "data": {
      "text/plain": [
       "array([[186.],\n",
       "       [168.],\n",
       "       [175.],\n",
       "       [210.],\n",
       "       [160.],\n",
       "       [163.]])"
      ]
     },
     "metadata": {},
     "output_type": "display_data"
    }
   ],
   "source": [
    "X = df['height'].values\n",
    "display(X)\n",
    "# reshape(-1, 1)はStandardScalerに入力するために、numpy.arrayのshapeを変更\n",
    "X = X.reshape(-1, 1)\n",
    "display(X)\n",
    "# astype(float) は numpy.array のデータタイプを float に変更\n",
    "X = X.astype(float)\n",
    "display(X)"
   ]
  },
  {
   "cell_type": "markdown",
   "metadata": {},
   "source": [
    "### 標準化\n",
    "- 平均値が（ほぼ）0、標準偏差が 1.0 となる"
   ]
  },
  {
   "cell_type": "code",
   "execution_count": 15,
   "metadata": {},
   "outputs": [
    {
     "data": {
      "text/plain": [
       "array([[ 0.5284982 ],\n",
       "       [-0.5284982 ],\n",
       "       [-0.11744404],\n",
       "       [ 1.93782672],\n",
       "       [-0.99827437],\n",
       "       [-0.82210831]])"
      ]
     },
     "metadata": {},
     "output_type": "display_data"
    },
    {
     "name": "stdout",
     "output_type": "stream",
     "text": [
      "\n",
      "平均値 1.850371707708594e-17\n",
      "標準偏差 1.0\n"
     ]
    }
   ],
   "source": [
    "# StandardScaler を import して、X を標準化\n",
    "from sklearn.preprocessing import StandardScaler\n",
    "\n",
    "sc = StandardScaler()\n",
    "# fit_transform() は fit と transform を一気に行う\n",
    "X_std = sc.fit_transform(X)\n",
    "\n",
    "display(X_std)\n",
    "print()\n",
    "print('平均値', X_std.mean())\n",
    "print('標準偏差', X_std.std())\n",
    "# 平均値が（ほぼ）0、標準偏差が 1.0 となる"
   ]
  },
  {
   "cell_type": "markdown",
   "metadata": {},
   "source": [
    "### 正規化\n",
    "- 特徴量を  [0,1]  の範囲にスケールし直す"
   ]
  },
  {
   "cell_type": "code",
   "execution_count": 20,
   "metadata": {},
   "outputs": [
    {
     "name": "stdout",
     "output_type": "stream",
     "text": [
      "[[0.52]\n",
      " [0.16]\n",
      " [0.3 ]\n",
      " [1.  ]\n",
      " [0.  ]\n",
      " [0.06]]\n",
      "\n",
      "最大値 1.0\n",
      "最小値 0.0\n"
     ]
    }
   ],
   "source": [
    "# scikit-learn の MinMaxScalerを使用して正規化\n",
    "from sklearn.preprocessing import MinMaxScaler\n",
    "\n",
    "scaler = MinMaxScaler()\n",
    "X_norm = scaler.fit_transform(X)\n",
    "\n",
    "print(X_norm)\n",
    "print()\n",
    "print('最大値', X_norm.max())\n",
    "print('最小値', X_norm.min())"
   ]
  }
 ],
 "metadata": {
  "kernelspec": {
   "display_name": "Python 3",
   "language": "python",
   "name": "python3"
  },
  "language_info": {
   "codemirror_mode": {
    "name": "ipython",
    "version": 3
   },
   "file_extension": ".py",
   "mimetype": "text/x-python",
   "name": "python",
   "nbconvert_exporter": "python",
   "pygments_lexer": "ipython3",
   "version": "3.7.3"
  }
 },
 "nbformat": 4,
 "nbformat_minor": 2
}
